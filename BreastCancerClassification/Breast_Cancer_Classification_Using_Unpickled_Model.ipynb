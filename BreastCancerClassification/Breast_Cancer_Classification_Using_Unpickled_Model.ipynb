{
 "cells": [
  {
   "cell_type": "markdown",
   "id": "2ee51ab5",
   "metadata": {},
   "source": [
    "# Import needed libraries"
   ]
  },
  {
   "cell_type": "code",
   "execution_count": 1,
   "id": "467c9b87",
   "metadata": {},
   "outputs": [],
   "source": [
    "from sklearn.datasets import load_breast_cancer\n",
    "from sklearn.model_selection import train_test_split\n",
    "from sklearn.linear_model import LogisticRegression as LR\n",
    "import numpy as np"
   ]
  },
  {
   "cell_type": "markdown",
   "id": "e1fb9037",
   "metadata": {},
   "source": [
    "# Load sklearn breast cancer dataset"
   ]
  },
  {
   "cell_type": "code",
   "execution_count": 2,
   "id": "4b08c626",
   "metadata": {},
   "outputs": [],
   "source": [
    "X, y = load_breast_cancer(return_X_y=True, as_frame=True)\n",
    "\n",
    "# Or\n",
    "\n",
    "# Dataset = loader(return_X_y=True, as_frame=True)\n",
    "# X=Dataset[0]\n",
    "# y=Dataset[1]\n",
    "\n",
    "# print(X)\n",
    "# print(y)"
   ]
  },
  {
   "cell_type": "markdown",
   "id": "b9853fde",
   "metadata": {},
   "source": [
    "**Note: When the return_X_y parameter of the dataset loader is set to True, a tuple is returned which can be unpacked into**\n",
    "**the feature variables (X) and target variable (y)**\n",
    "**Setting as_frame to True returns the feature variables as Pandas DataFrame**"
   ]
  },
  {
   "cell_type": "code",
   "execution_count": 3,
   "id": "3768a2d5",
   "metadata": {},
   "outputs": [],
   "source": [
    "dataset_as_dict = load_breast_cancer(return_X_y=False, as_frame=True)\n",
    "\n",
    "# print(dataset_as_dict,\"\\n\")\n",
    "# print(dataset_as_dict.data)"
   ]
  },
  {
   "cell_type": "markdown",
   "id": "a7f2c78e",
   "metadata": {},
   "source": [
    "**Note: When the return_X_y parameter of the dataset loader is set to False, a dictionary with the following keys: 'data', 'target',**\n",
    "**'frame', 'target_names', 'DESCR', 'feature_names', 'filename' and 'data_module' is returned as attributes which can be used**\n",
    "**to access the dictionary**\n",
    "**Setting as_frame to True returns the feature variables as Pandas DataFrame**"
   ]
  },
  {
   "cell_type": "markdown",
   "id": "cd5d5bc3",
   "metadata": {},
   "source": [
    "# Data preprocessing"
   ]
  },
  {
   "cell_type": "code",
   "execution_count": 4,
   "id": "571fbc64",
   "metadata": {
    "scrolled": true
   },
   "outputs": [],
   "source": [
    "# print(f\"X has {X.shape[0]} rows and {X.shape[1]} columns. I.e., There are {X.shape[1]} feature variable of {X.shape[0]} rows.\\n\")\n",
    "\n",
    "# print(X.isnull().any(),\"\\n\") # or X.isna().any() \n",
    "# print(\"The description of the dataset is given below\")\n",
    "# X.describe()"
   ]
  },
  {
   "cell_type": "code",
   "execution_count": 5,
   "id": "653716cc",
   "metadata": {},
   "outputs": [],
   "source": [
    "# len(X)"
   ]
  },
  {
   "cell_type": "markdown",
   "id": "9810a822",
   "metadata": {},
   "source": [
    "# Dataset splitting"
   ]
  },
  {
   "cell_type": "code",
   "execution_count": 6,
   "id": "7fab200e",
   "metadata": {
    "scrolled": true
   },
   "outputs": [],
   "source": [
    "X_train, X_test, y_train, y_test = train_test_split(X, y, test_size=500, random_state=123,)\n",
    "\n",
    "X_train, X_test, y_train, y_test = X_train.to_numpy(), X_test.to_numpy(), y_train.to_numpy(), y_test.to_numpy()"
   ]
  },
  {
   "cell_type": "markdown",
   "id": "a45f323b",
   "metadata": {},
   "source": [
    "# Model deserialization (unpickling)"
   ]
  },
  {
   "cell_type": "code",
   "execution_count": 7,
   "id": "bf7ecaf3",
   "metadata": {},
   "outputs": [
    {
     "data": {
      "text/html": [
       "<style>#sk-container-id-1 {color: black;background-color: white;}#sk-container-id-1 pre{padding: 0;}#sk-container-id-1 div.sk-toggleable {background-color: white;}#sk-container-id-1 label.sk-toggleable__label {cursor: pointer;display: block;width: 100%;margin-bottom: 0;padding: 0.3em;box-sizing: border-box;text-align: center;}#sk-container-id-1 label.sk-toggleable__label-arrow:before {content: \"▸\";float: left;margin-right: 0.25em;color: #696969;}#sk-container-id-1 label.sk-toggleable__label-arrow:hover:before {color: black;}#sk-container-id-1 div.sk-estimator:hover label.sk-toggleable__label-arrow:before {color: black;}#sk-container-id-1 div.sk-toggleable__content {max-height: 0;max-width: 0;overflow: hidden;text-align: left;background-color: #f0f8ff;}#sk-container-id-1 div.sk-toggleable__content pre {margin: 0.2em;color: black;border-radius: 0.25em;background-color: #f0f8ff;}#sk-container-id-1 input.sk-toggleable__control:checked~div.sk-toggleable__content {max-height: 200px;max-width: 100%;overflow: auto;}#sk-container-id-1 input.sk-toggleable__control:checked~label.sk-toggleable__label-arrow:before {content: \"▾\";}#sk-container-id-1 div.sk-estimator input.sk-toggleable__control:checked~label.sk-toggleable__label {background-color: #d4ebff;}#sk-container-id-1 div.sk-label input.sk-toggleable__control:checked~label.sk-toggleable__label {background-color: #d4ebff;}#sk-container-id-1 input.sk-hidden--visually {border: 0;clip: rect(1px 1px 1px 1px);clip: rect(1px, 1px, 1px, 1px);height: 1px;margin: -1px;overflow: hidden;padding: 0;position: absolute;width: 1px;}#sk-container-id-1 div.sk-estimator {font-family: monospace;background-color: #f0f8ff;border: 1px dotted black;border-radius: 0.25em;box-sizing: border-box;margin-bottom: 0.5em;}#sk-container-id-1 div.sk-estimator:hover {background-color: #d4ebff;}#sk-container-id-1 div.sk-parallel-item::after {content: \"\";width: 100%;border-bottom: 1px solid gray;flex-grow: 1;}#sk-container-id-1 div.sk-label:hover label.sk-toggleable__label {background-color: #d4ebff;}#sk-container-id-1 div.sk-serial::before {content: \"\";position: absolute;border-left: 1px solid gray;box-sizing: border-box;top: 0;bottom: 0;left: 50%;z-index: 0;}#sk-container-id-1 div.sk-serial {display: flex;flex-direction: column;align-items: center;background-color: white;padding-right: 0.2em;padding-left: 0.2em;position: relative;}#sk-container-id-1 div.sk-item {position: relative;z-index: 1;}#sk-container-id-1 div.sk-parallel {display: flex;align-items: stretch;justify-content: center;background-color: white;position: relative;}#sk-container-id-1 div.sk-item::before, #sk-container-id-1 div.sk-parallel-item::before {content: \"\";position: absolute;border-left: 1px solid gray;box-sizing: border-box;top: 0;bottom: 0;left: 50%;z-index: -1;}#sk-container-id-1 div.sk-parallel-item {display: flex;flex-direction: column;z-index: 1;position: relative;background-color: white;}#sk-container-id-1 div.sk-parallel-item:first-child::after {align-self: flex-end;width: 50%;}#sk-container-id-1 div.sk-parallel-item:last-child::after {align-self: flex-start;width: 50%;}#sk-container-id-1 div.sk-parallel-item:only-child::after {width: 0;}#sk-container-id-1 div.sk-dashed-wrapped {border: 1px dashed gray;margin: 0 0.4em 0.5em 0.4em;box-sizing: border-box;padding-bottom: 0.4em;background-color: white;}#sk-container-id-1 div.sk-label label {font-family: monospace;font-weight: bold;display: inline-block;line-height: 1.2em;}#sk-container-id-1 div.sk-label-container {text-align: center;}#sk-container-id-1 div.sk-container {/* jupyter's `normalize.less` sets `[hidden] { display: none; }` but bootstrap.min.css set `[hidden] { display: none !important; }` so we also need the `!important` here to be able to override the default hidden behavior on the sphinx rendered scikit-learn.org. See: https://github.com/scikit-learn/scikit-learn/issues/21755 */display: inline-block !important;position: relative;}#sk-container-id-1 div.sk-text-repr-fallback {display: none;}</style><div id=\"sk-container-id-1\" class=\"sk-top-container\"><div class=\"sk-text-repr-fallback\"><pre>LogisticRegression(C=0.1, max_iter=10000, n_jobs=-1, verbose=2)</pre><b>In a Jupyter environment, please rerun this cell to show the HTML representation or trust the notebook. <br />On GitHub, the HTML representation is unable to render, please try loading this page with nbviewer.org.</b></div><div class=\"sk-container\" hidden><div class=\"sk-item\"><div class=\"sk-estimator sk-toggleable\"><input class=\"sk-toggleable__control sk-hidden--visually\" id=\"sk-estimator-id-1\" type=\"checkbox\" checked><label for=\"sk-estimator-id-1\" class=\"sk-toggleable__label sk-toggleable__label-arrow\">LogisticRegression</label><div class=\"sk-toggleable__content\"><pre>LogisticRegression(C=0.1, max_iter=10000, n_jobs=-1, verbose=2)</pre></div></div></div></div></div>"
      ],
      "text/plain": [
       "LogisticRegression(C=0.1, max_iter=10000, n_jobs=-1, verbose=2)"
      ]
     },
     "execution_count": 7,
     "metadata": {},
     "output_type": "execute_result"
    }
   ],
   "source": [
    "# model deserialization (unpickling)\n",
    "def unpickle_model():\n",
    "    import pickle\n",
    "    import pathlib\n",
    "    path=pathlib.Path(\"pickled_models/sklearn_breast_cancer_classifier.pkl\")\n",
    "    with open(path, mode=\"rb\") as in_file:\n",
    "        unpickled_model = pickle.load(in_file)\n",
    "    return unpickled_model\n",
    "        \n",
    "my_model = unpickle_model()\n",
    "my_model"
   ]
  },
  {
   "cell_type": "markdown",
   "id": "3185adf9",
   "metadata": {},
   "source": [
    "# Mapping the target (y) variable"
   ]
  },
  {
   "cell_type": "code",
   "execution_count": 8,
   "id": "11eed5c0",
   "metadata": {
    "scrolled": false
   },
   "outputs": [],
   "source": [
    "def map_y():\n",
    "    y = []\n",
    "    for i in y_test:\n",
    "        if i == 1:\n",
    "            y.append(\"Malignant\")\n",
    "        else:\n",
    "            y.append(\"Benign\")\n",
    "    return np.array(y)\n",
    "\n",
    "y_test_label = map_y()\n",
    "\n",
    "# print(y_test_label) "
   ]
  },
  {
   "cell_type": "markdown",
   "id": "e9f6e9e1",
   "metadata": {},
   "source": [
    "# Function to predict the classes of cancer given the start and end indexes"
   ]
  },
  {
   "cell_type": "code",
   "execution_count": 13,
   "id": "d9f8cfc0",
   "metadata": {
    "scrolled": false
   },
   "outputs": [
    {
     "name": "stdout",
     "output_type": "stream",
     "text": [
      "Function to predict the classes of cancer given the start and end indexes. Only integers between 1 and 500 are allowed\n",
      "\n",
      "Start Index of the classes you want to predict: 5\n",
      "End Index of the classes you want to predict:   4\n",
      "\n",
      "Please the start index CANNOT be higher than the end index. Click ctrl + ENTER to start again!\n"
     ]
    }
   ],
   "source": [
    "print(f\"Function to predict the classes of cancer given the start and end indexes. Only integers between 1 and {len(X_test)} are allowed\\n\")\n",
    "\n",
    "while True:\n",
    "    try:\n",
    "        start = int(input(\"Start Index of the classes you want to predict: \"))\n",
    "        end = int(input(\"End Index of the classes you want to predict:   \"))\n",
    "        break\n",
    "    except:\n",
    "        print(\"\\nPlease indicate the start and end indexes. Empty values, and letters are not allowed. Only integers are allowed\\n\")\n",
    "\n",
    "if start > end:\n",
    "    print(\"\\nPlease the start index CANNOT be higher than the end index. Click ctrl + ENTER to start again!\")   \n",
    "else:\n",
    "    start_index, end_index = start-1, end # substract 1 to get the actual index since array index starts from 0\n",
    "    \n",
    "    if start_index > len(X_test) or end_index > len(X_test):\n",
    "        print(\"\\nThe index you entered is out of range. Click ctrl + ENTER to try again!\")\n",
    "    else:\n",
    "        def predict():\n",
    "            prediction_list = []\n",
    "            prediction = list(my_model.predict(X_test[start_index:end_index]))\n",
    "            for i in prediction:\n",
    "                if i == 1:\n",
    "                    prediction_list.append(\"Malignant\")\n",
    "                else:\n",
    "                    prediction_list.append(\"Benign\")\n",
    "            return prediction_list\n",
    "\n",
    "        def actual():\n",
    "            actual = list(y_test_label[start_index:end_index])\n",
    "            return actual\n",
    "\n",
    "        predicted_class = predict()\n",
    "        actual_class = actual()\n",
    "\n",
    "        print(f\"\\nPredicted classes: {predicted_class}\")\n",
    "        print(f\"\\nActual classes:    {actual_class}\")"
   ]
  }
 ],
 "metadata": {
  "kernelspec": {
   "display_name": "Python 3 (ipykernel)",
   "language": "python",
   "name": "python3"
  },
  "language_info": {
   "codemirror_mode": {
    "name": "ipython",
    "version": 3
   },
   "file_extension": ".py",
   "mimetype": "text/x-python",
   "name": "python",
   "nbconvert_exporter": "python",
   "pygments_lexer": "ipython3",
   "version": "3.9.7"
  }
 },
 "nbformat": 4,
 "nbformat_minor": 5
}
