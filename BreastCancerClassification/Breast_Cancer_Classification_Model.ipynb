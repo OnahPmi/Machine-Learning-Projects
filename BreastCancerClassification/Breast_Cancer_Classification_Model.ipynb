{
 "cells": [
  {
   "cell_type": "markdown",
   "id": "2ee51ab5",
   "metadata": {},
   "source": [
    "# Import needed libraries"
   ]
  },
  {
   "cell_type": "code",
   "execution_count": 1,
   "id": "467c9b87",
   "metadata": {},
   "outputs": [],
   "source": [
    "from sklearn.datasets import load_breast_cancer\n",
    "from sklearn.model_selection import train_test_split\n",
    "from sklearn.linear_model import LogisticRegression as LR\n",
    "import numpy as np"
   ]
  },
  {
   "cell_type": "markdown",
   "id": "e1fb9037",
   "metadata": {},
   "source": [
    "# Load sklearn breast cancer dataset"
   ]
  },
  {
   "cell_type": "code",
   "execution_count": 2,
   "id": "4b08c626",
   "metadata": {},
   "outputs": [],
   "source": [
    "X, y = load_breast_cancer(return_X_y=True, as_frame=True)\n",
    "\n",
    "# Or\n",
    "\n",
    "# Dataset = loader(return_X_y=True, as_frame=True)\n",
    "# X=Dataset[0]\n",
    "# y=Dataset[1]\n",
    "\n",
    "# print(X)\n",
    "# print(y)"
   ]
  },
  {
   "cell_type": "markdown",
   "id": "b9853fde",
   "metadata": {},
   "source": [
    "**Note: When the return_X_y parameter of the dataset loader is set to True, a tuple is returned which can be unpacked into**\n",
    "**the feature variables (X) and target variable (y)**\n",
    "**Setting as_frame to True returns the feature variables as Pandas DataFrame**"
   ]
  },
  {
   "cell_type": "code",
   "execution_count": 3,
   "id": "3768a2d5",
   "metadata": {},
   "outputs": [],
   "source": [
    "dataset_as_dict = load_breast_cancer(return_X_y=False, as_frame=True)\n",
    "\n",
    "# print(dataset_as_dict,\"\\n\")\n",
    "# print(dataset_as_dict.data)"
   ]
  },
  {
   "cell_type": "markdown",
   "id": "a7f2c78e",
   "metadata": {},
   "source": [
    "**Note: When the return_X_y parameter of the dataset loader is set to False, a dictionary with the following keys: 'data', 'target',**\n",
    "**'frame', 'target_names', 'DESCR', 'feature_names', 'filename' and 'data_module' is returned as attributes which can be used**\n",
    "**to access the dictionary**\n",
    "**Setting as_frame to True returns the feature variables as Pandas DataFrame**"
   ]
  },
  {
   "cell_type": "markdown",
   "id": "cd5d5bc3",
   "metadata": {},
   "source": [
    "# Data preprocessing"
   ]
  },
  {
   "cell_type": "code",
   "execution_count": 4,
   "id": "571fbc64",
   "metadata": {
    "scrolled": true
   },
   "outputs": [
    {
     "name": "stdout",
     "output_type": "stream",
     "text": [
      "X has 569 rows and 30 columns. I.e., There are 30 feature variable of 569 rows.\n",
      "\n",
      "mean radius                False\n",
      "mean texture               False\n",
      "mean perimeter             False\n",
      "mean area                  False\n",
      "mean smoothness            False\n",
      "mean compactness           False\n",
      "mean concavity             False\n",
      "mean concave points        False\n",
      "mean symmetry              False\n",
      "mean fractal dimension     False\n",
      "radius error               False\n",
      "texture error              False\n",
      "perimeter error            False\n",
      "area error                 False\n",
      "smoothness error           False\n",
      "compactness error          False\n",
      "concavity error            False\n",
      "concave points error       False\n",
      "symmetry error             False\n",
      "fractal dimension error    False\n",
      "worst radius               False\n",
      "worst texture              False\n",
      "worst perimeter            False\n",
      "worst area                 False\n",
      "worst smoothness           False\n",
      "worst compactness          False\n",
      "worst concavity            False\n",
      "worst concave points       False\n",
      "worst symmetry             False\n",
      "worst fractal dimension    False\n",
      "dtype: bool \n",
      "\n",
      "The description of the dataset is given below\n"
     ]
    },
    {
     "data": {
      "text/html": [
       "<div>\n",
       "<style scoped>\n",
       "    .dataframe tbody tr th:only-of-type {\n",
       "        vertical-align: middle;\n",
       "    }\n",
       "\n",
       "    .dataframe tbody tr th {\n",
       "        vertical-align: top;\n",
       "    }\n",
       "\n",
       "    .dataframe thead th {\n",
       "        text-align: right;\n",
       "    }\n",
       "</style>\n",
       "<table border=\"1\" class=\"dataframe\">\n",
       "  <thead>\n",
       "    <tr style=\"text-align: right;\">\n",
       "      <th></th>\n",
       "      <th>mean radius</th>\n",
       "      <th>mean texture</th>\n",
       "      <th>mean perimeter</th>\n",
       "      <th>mean area</th>\n",
       "      <th>mean smoothness</th>\n",
       "      <th>mean compactness</th>\n",
       "      <th>mean concavity</th>\n",
       "      <th>mean concave points</th>\n",
       "      <th>mean symmetry</th>\n",
       "      <th>mean fractal dimension</th>\n",
       "      <th>...</th>\n",
       "      <th>worst radius</th>\n",
       "      <th>worst texture</th>\n",
       "      <th>worst perimeter</th>\n",
       "      <th>worst area</th>\n",
       "      <th>worst smoothness</th>\n",
       "      <th>worst compactness</th>\n",
       "      <th>worst concavity</th>\n",
       "      <th>worst concave points</th>\n",
       "      <th>worst symmetry</th>\n",
       "      <th>worst fractal dimension</th>\n",
       "    </tr>\n",
       "  </thead>\n",
       "  <tbody>\n",
       "    <tr>\n",
       "      <th>count</th>\n",
       "      <td>569.000000</td>\n",
       "      <td>569.000000</td>\n",
       "      <td>569.000000</td>\n",
       "      <td>569.000000</td>\n",
       "      <td>569.000000</td>\n",
       "      <td>569.000000</td>\n",
       "      <td>569.000000</td>\n",
       "      <td>569.000000</td>\n",
       "      <td>569.000000</td>\n",
       "      <td>569.000000</td>\n",
       "      <td>...</td>\n",
       "      <td>569.000000</td>\n",
       "      <td>569.000000</td>\n",
       "      <td>569.000000</td>\n",
       "      <td>569.000000</td>\n",
       "      <td>569.000000</td>\n",
       "      <td>569.000000</td>\n",
       "      <td>569.000000</td>\n",
       "      <td>569.000000</td>\n",
       "      <td>569.000000</td>\n",
       "      <td>569.000000</td>\n",
       "    </tr>\n",
       "    <tr>\n",
       "      <th>mean</th>\n",
       "      <td>14.127292</td>\n",
       "      <td>19.289649</td>\n",
       "      <td>91.969033</td>\n",
       "      <td>654.889104</td>\n",
       "      <td>0.096360</td>\n",
       "      <td>0.104341</td>\n",
       "      <td>0.088799</td>\n",
       "      <td>0.048919</td>\n",
       "      <td>0.181162</td>\n",
       "      <td>0.062798</td>\n",
       "      <td>...</td>\n",
       "      <td>16.269190</td>\n",
       "      <td>25.677223</td>\n",
       "      <td>107.261213</td>\n",
       "      <td>880.583128</td>\n",
       "      <td>0.132369</td>\n",
       "      <td>0.254265</td>\n",
       "      <td>0.272188</td>\n",
       "      <td>0.114606</td>\n",
       "      <td>0.290076</td>\n",
       "      <td>0.083946</td>\n",
       "    </tr>\n",
       "    <tr>\n",
       "      <th>std</th>\n",
       "      <td>3.524049</td>\n",
       "      <td>4.301036</td>\n",
       "      <td>24.298981</td>\n",
       "      <td>351.914129</td>\n",
       "      <td>0.014064</td>\n",
       "      <td>0.052813</td>\n",
       "      <td>0.079720</td>\n",
       "      <td>0.038803</td>\n",
       "      <td>0.027414</td>\n",
       "      <td>0.007060</td>\n",
       "      <td>...</td>\n",
       "      <td>4.833242</td>\n",
       "      <td>6.146258</td>\n",
       "      <td>33.602542</td>\n",
       "      <td>569.356993</td>\n",
       "      <td>0.022832</td>\n",
       "      <td>0.157336</td>\n",
       "      <td>0.208624</td>\n",
       "      <td>0.065732</td>\n",
       "      <td>0.061867</td>\n",
       "      <td>0.018061</td>\n",
       "    </tr>\n",
       "    <tr>\n",
       "      <th>min</th>\n",
       "      <td>6.981000</td>\n",
       "      <td>9.710000</td>\n",
       "      <td>43.790000</td>\n",
       "      <td>143.500000</td>\n",
       "      <td>0.052630</td>\n",
       "      <td>0.019380</td>\n",
       "      <td>0.000000</td>\n",
       "      <td>0.000000</td>\n",
       "      <td>0.106000</td>\n",
       "      <td>0.049960</td>\n",
       "      <td>...</td>\n",
       "      <td>7.930000</td>\n",
       "      <td>12.020000</td>\n",
       "      <td>50.410000</td>\n",
       "      <td>185.200000</td>\n",
       "      <td>0.071170</td>\n",
       "      <td>0.027290</td>\n",
       "      <td>0.000000</td>\n",
       "      <td>0.000000</td>\n",
       "      <td>0.156500</td>\n",
       "      <td>0.055040</td>\n",
       "    </tr>\n",
       "    <tr>\n",
       "      <th>25%</th>\n",
       "      <td>11.700000</td>\n",
       "      <td>16.170000</td>\n",
       "      <td>75.170000</td>\n",
       "      <td>420.300000</td>\n",
       "      <td>0.086370</td>\n",
       "      <td>0.064920</td>\n",
       "      <td>0.029560</td>\n",
       "      <td>0.020310</td>\n",
       "      <td>0.161900</td>\n",
       "      <td>0.057700</td>\n",
       "      <td>...</td>\n",
       "      <td>13.010000</td>\n",
       "      <td>21.080000</td>\n",
       "      <td>84.110000</td>\n",
       "      <td>515.300000</td>\n",
       "      <td>0.116600</td>\n",
       "      <td>0.147200</td>\n",
       "      <td>0.114500</td>\n",
       "      <td>0.064930</td>\n",
       "      <td>0.250400</td>\n",
       "      <td>0.071460</td>\n",
       "    </tr>\n",
       "    <tr>\n",
       "      <th>50%</th>\n",
       "      <td>13.370000</td>\n",
       "      <td>18.840000</td>\n",
       "      <td>86.240000</td>\n",
       "      <td>551.100000</td>\n",
       "      <td>0.095870</td>\n",
       "      <td>0.092630</td>\n",
       "      <td>0.061540</td>\n",
       "      <td>0.033500</td>\n",
       "      <td>0.179200</td>\n",
       "      <td>0.061540</td>\n",
       "      <td>...</td>\n",
       "      <td>14.970000</td>\n",
       "      <td>25.410000</td>\n",
       "      <td>97.660000</td>\n",
       "      <td>686.500000</td>\n",
       "      <td>0.131300</td>\n",
       "      <td>0.211900</td>\n",
       "      <td>0.226700</td>\n",
       "      <td>0.099930</td>\n",
       "      <td>0.282200</td>\n",
       "      <td>0.080040</td>\n",
       "    </tr>\n",
       "    <tr>\n",
       "      <th>75%</th>\n",
       "      <td>15.780000</td>\n",
       "      <td>21.800000</td>\n",
       "      <td>104.100000</td>\n",
       "      <td>782.700000</td>\n",
       "      <td>0.105300</td>\n",
       "      <td>0.130400</td>\n",
       "      <td>0.130700</td>\n",
       "      <td>0.074000</td>\n",
       "      <td>0.195700</td>\n",
       "      <td>0.066120</td>\n",
       "      <td>...</td>\n",
       "      <td>18.790000</td>\n",
       "      <td>29.720000</td>\n",
       "      <td>125.400000</td>\n",
       "      <td>1084.000000</td>\n",
       "      <td>0.146000</td>\n",
       "      <td>0.339100</td>\n",
       "      <td>0.382900</td>\n",
       "      <td>0.161400</td>\n",
       "      <td>0.317900</td>\n",
       "      <td>0.092080</td>\n",
       "    </tr>\n",
       "    <tr>\n",
       "      <th>max</th>\n",
       "      <td>28.110000</td>\n",
       "      <td>39.280000</td>\n",
       "      <td>188.500000</td>\n",
       "      <td>2501.000000</td>\n",
       "      <td>0.163400</td>\n",
       "      <td>0.345400</td>\n",
       "      <td>0.426800</td>\n",
       "      <td>0.201200</td>\n",
       "      <td>0.304000</td>\n",
       "      <td>0.097440</td>\n",
       "      <td>...</td>\n",
       "      <td>36.040000</td>\n",
       "      <td>49.540000</td>\n",
       "      <td>251.200000</td>\n",
       "      <td>4254.000000</td>\n",
       "      <td>0.222600</td>\n",
       "      <td>1.058000</td>\n",
       "      <td>1.252000</td>\n",
       "      <td>0.291000</td>\n",
       "      <td>0.663800</td>\n",
       "      <td>0.207500</td>\n",
       "    </tr>\n",
       "  </tbody>\n",
       "</table>\n",
       "<p>8 rows × 30 columns</p>\n",
       "</div>"
      ],
      "text/plain": [
       "       mean radius  mean texture  mean perimeter    mean area  \\\n",
       "count   569.000000    569.000000      569.000000   569.000000   \n",
       "mean     14.127292     19.289649       91.969033   654.889104   \n",
       "std       3.524049      4.301036       24.298981   351.914129   \n",
       "min       6.981000      9.710000       43.790000   143.500000   \n",
       "25%      11.700000     16.170000       75.170000   420.300000   \n",
       "50%      13.370000     18.840000       86.240000   551.100000   \n",
       "75%      15.780000     21.800000      104.100000   782.700000   \n",
       "max      28.110000     39.280000      188.500000  2501.000000   \n",
       "\n",
       "       mean smoothness  mean compactness  mean concavity  mean concave points  \\\n",
       "count       569.000000        569.000000      569.000000           569.000000   \n",
       "mean          0.096360          0.104341        0.088799             0.048919   \n",
       "std           0.014064          0.052813        0.079720             0.038803   \n",
       "min           0.052630          0.019380        0.000000             0.000000   \n",
       "25%           0.086370          0.064920        0.029560             0.020310   \n",
       "50%           0.095870          0.092630        0.061540             0.033500   \n",
       "75%           0.105300          0.130400        0.130700             0.074000   \n",
       "max           0.163400          0.345400        0.426800             0.201200   \n",
       "\n",
       "       mean symmetry  mean fractal dimension  ...  worst radius  \\\n",
       "count     569.000000              569.000000  ...    569.000000   \n",
       "mean        0.181162                0.062798  ...     16.269190   \n",
       "std         0.027414                0.007060  ...      4.833242   \n",
       "min         0.106000                0.049960  ...      7.930000   \n",
       "25%         0.161900                0.057700  ...     13.010000   \n",
       "50%         0.179200                0.061540  ...     14.970000   \n",
       "75%         0.195700                0.066120  ...     18.790000   \n",
       "max         0.304000                0.097440  ...     36.040000   \n",
       "\n",
       "       worst texture  worst perimeter   worst area  worst smoothness  \\\n",
       "count     569.000000       569.000000   569.000000        569.000000   \n",
       "mean       25.677223       107.261213   880.583128          0.132369   \n",
       "std         6.146258        33.602542   569.356993          0.022832   \n",
       "min        12.020000        50.410000   185.200000          0.071170   \n",
       "25%        21.080000        84.110000   515.300000          0.116600   \n",
       "50%        25.410000        97.660000   686.500000          0.131300   \n",
       "75%        29.720000       125.400000  1084.000000          0.146000   \n",
       "max        49.540000       251.200000  4254.000000          0.222600   \n",
       "\n",
       "       worst compactness  worst concavity  worst concave points  \\\n",
       "count         569.000000       569.000000            569.000000   \n",
       "mean            0.254265         0.272188              0.114606   \n",
       "std             0.157336         0.208624              0.065732   \n",
       "min             0.027290         0.000000              0.000000   \n",
       "25%             0.147200         0.114500              0.064930   \n",
       "50%             0.211900         0.226700              0.099930   \n",
       "75%             0.339100         0.382900              0.161400   \n",
       "max             1.058000         1.252000              0.291000   \n",
       "\n",
       "       worst symmetry  worst fractal dimension  \n",
       "count      569.000000               569.000000  \n",
       "mean         0.290076                 0.083946  \n",
       "std          0.061867                 0.018061  \n",
       "min          0.156500                 0.055040  \n",
       "25%          0.250400                 0.071460  \n",
       "50%          0.282200                 0.080040  \n",
       "75%          0.317900                 0.092080  \n",
       "max          0.663800                 0.207500  \n",
       "\n",
       "[8 rows x 30 columns]"
      ]
     },
     "execution_count": 4,
     "metadata": {},
     "output_type": "execute_result"
    }
   ],
   "source": [
    "print(f\"X has {X.shape[0]} rows and {X.shape[1]} columns. I.e., There are {X.shape[1]} feature variable of {X.shape[0]} rows.\\n\")\n",
    "\n",
    "print(X.isnull().any(),\"\\n\") # or X.isna().any() \n",
    "print(\"The description of the dataset is given below\")\n",
    "X.describe()"
   ]
  },
  {
   "cell_type": "markdown",
   "id": "9810a822",
   "metadata": {},
   "source": [
    "# Dataset splitting and model training"
   ]
  },
  {
   "cell_type": "code",
   "execution_count": 5,
   "id": "7fab200e",
   "metadata": {
    "scrolled": false
   },
   "outputs": [
    {
     "name": "stderr",
     "output_type": "stream",
     "text": [
      "[Parallel(n_jobs=-1)]: Using backend LokyBackend with 4 concurrent workers.\n",
      "[Parallel(n_jobs=-1)]: Done   1 out of   1 | elapsed:    2.3s finished\n"
     ]
    },
    {
     "data": {
      "text/plain": [
       "0.9766081871345029"
      ]
     },
     "execution_count": 5,
     "metadata": {},
     "output_type": "execute_result"
    }
   ],
   "source": [
    "X_train, X_test, y_train, y_test = train_test_split(X, y, train_size=0.7, test_size=0.3, random_state=123,)\n",
    "\n",
    "X_train, X_test, y_train, y_test = X_train.to_numpy(), X_test.to_numpy(), y_train.to_numpy(), y_test.to_numpy()\n",
    "\n",
    "lr = LR(max_iter=10000, C=0.1, verbose=2, n_jobs=-1)\n",
    "model=lr.fit(X_train, y_train)\n",
    "\n",
    "model.score(X_test, y_test)"
   ]
  },
  {
   "cell_type": "markdown",
   "id": "4a609db8",
   "metadata": {},
   "source": [
    "# Model serialization (pickling)"
   ]
  },
  {
   "cell_type": "code",
   "execution_count": 6,
   "id": "adc5bc61",
   "metadata": {},
   "outputs": [],
   "source": [
    "# model serialization (pickling)\n",
    "def pickle_model():\n",
    "    import pickle\n",
    "    import pathlib\n",
    "    path=pathlib.Path(\"pickled_models/sklearn_breast_cancer_classifier.pkl\")\n",
    "    with open(path, mode=\"wb\") as out_file:\n",
    "        pickle.dump(model, out_file)\n",
    "\n",
    "pickle_model()\n",
    "# Note: the .pkl extension is note strictly necessary. However, it is considered good practice"
   ]
  },
  {
   "cell_type": "markdown",
   "id": "a45f323b",
   "metadata": {},
   "source": [
    "# Model deserialization (unpickling)"
   ]
  },
  {
   "cell_type": "code",
   "execution_count": 7,
   "id": "bf7ecaf3",
   "metadata": {},
   "outputs": [
    {
     "data": {
      "text/html": [
       "<style>#sk-container-id-1 {color: black;background-color: white;}#sk-container-id-1 pre{padding: 0;}#sk-container-id-1 div.sk-toggleable {background-color: white;}#sk-container-id-1 label.sk-toggleable__label {cursor: pointer;display: block;width: 100%;margin-bottom: 0;padding: 0.3em;box-sizing: border-box;text-align: center;}#sk-container-id-1 label.sk-toggleable__label-arrow:before {content: \"▸\";float: left;margin-right: 0.25em;color: #696969;}#sk-container-id-1 label.sk-toggleable__label-arrow:hover:before {color: black;}#sk-container-id-1 div.sk-estimator:hover label.sk-toggleable__label-arrow:before {color: black;}#sk-container-id-1 div.sk-toggleable__content {max-height: 0;max-width: 0;overflow: hidden;text-align: left;background-color: #f0f8ff;}#sk-container-id-1 div.sk-toggleable__content pre {margin: 0.2em;color: black;border-radius: 0.25em;background-color: #f0f8ff;}#sk-container-id-1 input.sk-toggleable__control:checked~div.sk-toggleable__content {max-height: 200px;max-width: 100%;overflow: auto;}#sk-container-id-1 input.sk-toggleable__control:checked~label.sk-toggleable__label-arrow:before {content: \"▾\";}#sk-container-id-1 div.sk-estimator input.sk-toggleable__control:checked~label.sk-toggleable__label {background-color: #d4ebff;}#sk-container-id-1 div.sk-label input.sk-toggleable__control:checked~label.sk-toggleable__label {background-color: #d4ebff;}#sk-container-id-1 input.sk-hidden--visually {border: 0;clip: rect(1px 1px 1px 1px);clip: rect(1px, 1px, 1px, 1px);height: 1px;margin: -1px;overflow: hidden;padding: 0;position: absolute;width: 1px;}#sk-container-id-1 div.sk-estimator {font-family: monospace;background-color: #f0f8ff;border: 1px dotted black;border-radius: 0.25em;box-sizing: border-box;margin-bottom: 0.5em;}#sk-container-id-1 div.sk-estimator:hover {background-color: #d4ebff;}#sk-container-id-1 div.sk-parallel-item::after {content: \"\";width: 100%;border-bottom: 1px solid gray;flex-grow: 1;}#sk-container-id-1 div.sk-label:hover label.sk-toggleable__label {background-color: #d4ebff;}#sk-container-id-1 div.sk-serial::before {content: \"\";position: absolute;border-left: 1px solid gray;box-sizing: border-box;top: 0;bottom: 0;left: 50%;z-index: 0;}#sk-container-id-1 div.sk-serial {display: flex;flex-direction: column;align-items: center;background-color: white;padding-right: 0.2em;padding-left: 0.2em;position: relative;}#sk-container-id-1 div.sk-item {position: relative;z-index: 1;}#sk-container-id-1 div.sk-parallel {display: flex;align-items: stretch;justify-content: center;background-color: white;position: relative;}#sk-container-id-1 div.sk-item::before, #sk-container-id-1 div.sk-parallel-item::before {content: \"\";position: absolute;border-left: 1px solid gray;box-sizing: border-box;top: 0;bottom: 0;left: 50%;z-index: -1;}#sk-container-id-1 div.sk-parallel-item {display: flex;flex-direction: column;z-index: 1;position: relative;background-color: white;}#sk-container-id-1 div.sk-parallel-item:first-child::after {align-self: flex-end;width: 50%;}#sk-container-id-1 div.sk-parallel-item:last-child::after {align-self: flex-start;width: 50%;}#sk-container-id-1 div.sk-parallel-item:only-child::after {width: 0;}#sk-container-id-1 div.sk-dashed-wrapped {border: 1px dashed gray;margin: 0 0.4em 0.5em 0.4em;box-sizing: border-box;padding-bottom: 0.4em;background-color: white;}#sk-container-id-1 div.sk-label label {font-family: monospace;font-weight: bold;display: inline-block;line-height: 1.2em;}#sk-container-id-1 div.sk-label-container {text-align: center;}#sk-container-id-1 div.sk-container {/* jupyter's `normalize.less` sets `[hidden] { display: none; }` but bootstrap.min.css set `[hidden] { display: none !important; }` so we also need the `!important` here to be able to override the default hidden behavior on the sphinx rendered scikit-learn.org. See: https://github.com/scikit-learn/scikit-learn/issues/21755 */display: inline-block !important;position: relative;}#sk-container-id-1 div.sk-text-repr-fallback {display: none;}</style><div id=\"sk-container-id-1\" class=\"sk-top-container\"><div class=\"sk-text-repr-fallback\"><pre>LogisticRegression(C=0.1, max_iter=10000, n_jobs=-1, verbose=2)</pre><b>In a Jupyter environment, please rerun this cell to show the HTML representation or trust the notebook. <br />On GitHub, the HTML representation is unable to render, please try loading this page with nbviewer.org.</b></div><div class=\"sk-container\" hidden><div class=\"sk-item\"><div class=\"sk-estimator sk-toggleable\"><input class=\"sk-toggleable__control sk-hidden--visually\" id=\"sk-estimator-id-1\" type=\"checkbox\" checked><label for=\"sk-estimator-id-1\" class=\"sk-toggleable__label sk-toggleable__label-arrow\">LogisticRegression</label><div class=\"sk-toggleable__content\"><pre>LogisticRegression(C=0.1, max_iter=10000, n_jobs=-1, verbose=2)</pre></div></div></div></div></div>"
      ],
      "text/plain": [
       "LogisticRegression(C=0.1, max_iter=10000, n_jobs=-1, verbose=2)"
      ]
     },
     "execution_count": 7,
     "metadata": {},
     "output_type": "execute_result"
    }
   ],
   "source": [
    "# model deserialization (unpickling)\n",
    "def unpickle_model():\n",
    "    import pickle\n",
    "    import pathlib\n",
    "    path=pathlib.Path(\"pickled_models/sklearn_breast_cancer_classifier.pkl\")\n",
    "    with open(path, mode=\"rb\") as in_file:\n",
    "        unpickled_model = pickle.load(in_file)\n",
    "    return unpickled_model\n",
    "        \n",
    "my_model = unpickle_model()\n",
    "my_model"
   ]
  },
  {
   "cell_type": "markdown",
   "id": "3185adf9",
   "metadata": {},
   "source": [
    "# Mapping the target (y) variable"
   ]
  },
  {
   "cell_type": "code",
   "execution_count": 8,
   "id": "11eed5c0",
   "metadata": {
    "scrolled": true
   },
   "outputs": [
    {
     "name": "stdout",
     "output_type": "stream",
     "text": [
      "['Malignant' 'Malignant' 'Benign' 'Malignant' 'Benign' 'Malignant'\n",
      " 'Malignant' 'Benign' 'Malignant' 'Malignant' 'Malignant' 'Benign'\n",
      " 'Benign' 'Malignant' 'Benign' 'Malignant' 'Malignant' 'Malignant'\n",
      " 'Malignant' 'Malignant' 'Benign' 'Benign' 'Malignant' 'Malignant'\n",
      " 'Malignant' 'Benign' 'Benign' 'Malignant' 'Benign' 'Malignant' 'Benign'\n",
      " 'Malignant' 'Malignant' 'Malignant' 'Benign' 'Malignant' 'Malignant'\n",
      " 'Malignant' 'Malignant' 'Benign' 'Benign' 'Malignant' 'Benign'\n",
      " 'Malignant' 'Benign' 'Malignant' 'Benign' 'Benign' 'Benign' 'Benign'\n",
      " 'Benign' 'Benign' 'Malignant' 'Malignant' 'Malignant' 'Benign'\n",
      " 'Malignant' 'Benign' 'Benign' 'Malignant' 'Benign' 'Malignant'\n",
      " 'Malignant' 'Malignant' 'Malignant' 'Benign' 'Malignant' 'Malignant'\n",
      " 'Malignant' 'Benign' 'Malignant' 'Malignant' 'Benign' 'Malignant'\n",
      " 'Benign' 'Malignant' 'Malignant' 'Benign' 'Benign' 'Benign' 'Malignant'\n",
      " 'Benign' 'Benign' 'Malignant' 'Malignant' 'Malignant' 'Benign'\n",
      " 'Malignant' 'Benign' 'Malignant' 'Benign' 'Malignant' 'Malignant'\n",
      " 'Benign' 'Malignant' 'Malignant' 'Malignant' 'Malignant' 'Malignant'\n",
      " 'Malignant' 'Malignant' 'Malignant' 'Malignant' 'Malignant' 'Malignant'\n",
      " 'Malignant' 'Malignant' 'Malignant' 'Malignant' 'Malignant' 'Malignant'\n",
      " 'Malignant' 'Malignant' 'Benign' 'Benign' 'Benign' 'Malignant' 'Benign'\n",
      " 'Malignant' 'Malignant' 'Malignant' 'Malignant' 'Malignant' 'Malignant'\n",
      " 'Benign' 'Malignant' 'Benign' 'Benign' 'Malignant' 'Malignant' 'Benign'\n",
      " 'Malignant' 'Malignant' 'Benign' 'Benign' 'Malignant' 'Malignant'\n",
      " 'Malignant' 'Benign' 'Benign' 'Benign' 'Malignant' 'Benign' 'Malignant'\n",
      " 'Benign' 'Malignant' 'Benign' 'Benign' 'Malignant' 'Benign' 'Malignant'\n",
      " 'Benign' 'Malignant' 'Malignant' 'Benign' 'Malignant' 'Benign' 'Benign'\n",
      " 'Benign' 'Malignant' 'Malignant' 'Malignant' 'Benign' 'Malignant'\n",
      " 'Malignant' 'Malignant' 'Malignant' 'Benign' 'Benign' 'Benign' 'Benign']\n"
     ]
    }
   ],
   "source": [
    "def map_y():\n",
    "    y = []\n",
    "    for i in y_test:\n",
    "        if i == 1:\n",
    "            y.append(\"Malignant\")\n",
    "        else:\n",
    "            y.append(\"Benign\")\n",
    "    return np.array(y)\n",
    "\n",
    "y_test_label = map_y()\n",
    "\n",
    "print(y_test_label) "
   ]
  },
  {
   "cell_type": "markdown",
   "id": "2bdc8e7a",
   "metadata": {},
   "source": [
    "# Function to predict a class given the class index"
   ]
  },
  {
   "cell_type": "code",
   "execution_count": 9,
   "id": "de01b84f",
   "metadata": {
    "scrolled": false
   },
   "outputs": [
    {
     "name": "stdout",
     "output_type": "stream",
     "text": [
      "Function to predict a Cancer class given the class index. Only integers between 1 and 171 are allowed\n",
      "\n",
      "Enter the Index of the class you want to predict: 78\n",
      "\n",
      "Predicted class: Malignant\n",
      "\n",
      "Actual class:    Malignant\n"
     ]
    }
   ],
   "source": [
    "print(f\"Function to predict a Cancer class given the class index. Only integers between 1 and {len(X_test)} are allowed\\n\")\n",
    "\n",
    "while True:\n",
    "    try:\n",
    "        num = int(input(\"Enter the Index of the class you want to predict: \"))\n",
    "        break\n",
    "    except:\n",
    "        print(\"\\nPlease the input must be an integer!\")\n",
    "\n",
    "if num > len(X_test):\n",
    "    print(\"\\nThe index you entered is out of range. Click ctrl + ENTER to try again!\")\n",
    "else:\n",
    "    num -= num # substract 1 to get the actual index since array index starts from 0\n",
    "    def predict():\n",
    "        reshaped_feat = np.array(X_test[num]).reshape(1, -1)\n",
    "        prediction = my_model.predict(reshaped_feat)\n",
    "        if prediction == 1:\n",
    "            return \"Malignant\"\n",
    "        else:\n",
    "            return \"Benign\"\n",
    "\n",
    "    def actual():\n",
    "        actual = y_test_label[num]\n",
    "        return actual\n",
    "\n",
    "    predicted_class = predict()\n",
    "    actual_class = actual()\n",
    "\n",
    "    print(f\"\\nPredicted class: {predicted_class}\\n\")\n",
    "    print(f\"Actual class:    {actual_class}\")"
   ]
  },
  {
   "cell_type": "markdown",
   "id": "e9f6e9e1",
   "metadata": {},
   "source": [
    "# Function to predict the classes of cancer given the start and end indexes"
   ]
  },
  {
   "cell_type": "code",
   "execution_count": 10,
   "id": "d9f8cfc0",
   "metadata": {
    "scrolled": true
   },
   "outputs": [
    {
     "name": "stdout",
     "output_type": "stream",
     "text": [
      "Function to predict the classes of cancer given the start and end indexes. Only integers between 1 and 171 are allowed\n",
      "\n",
      "Start Index of the classes you want to predict: 8\n",
      "End Index of the classes you want to predict:   8\n",
      "\n",
      "Predicted classes: ['Malignant']\n",
      "\n",
      "Actual classes:    ['Benign']\n"
     ]
    }
   ],
   "source": [
    "print(f\"Function to predict the classes of cancer given the start and end indexes. Only integers between 1 and {len(X_test)} are allowed\\n\")\n",
    "\n",
    "while True:\n",
    "    try:\n",
    "        start = int(input(\"Start Index of the classes you want to predict: \"))\n",
    "        end = int(input(\"End Index of the classes you want to predict:   \"))\n",
    "        break\n",
    "    except:\n",
    "        print(\"\\nPlease indicate the start and end indexes. Only integers are allowed\\n\")\n",
    "\n",
    "if start > end:\n",
    "    print(\"\\nPlease the start index CANNOT be higher than the end index. Click ctrl + ENTER to start again!\")   \n",
    "else:\n",
    "    start_index, end_index = start-1, end # substract 1 to get the actual index since array index starts from 0\n",
    "    \n",
    "    if start_index > len(X_test) or end_index > len(X_test):\n",
    "        print(\"\\nThe index you entered is out of range. Click ctrl + ENTER to try again!\")\n",
    "    else:\n",
    "        def predict():\n",
    "            prediction_list = []\n",
    "            prediction = list(my_model.predict(X_test[start_index:end_index]))\n",
    "            for i in prediction:\n",
    "                if i == 1:\n",
    "                    prediction_list.append(\"Malignant\")\n",
    "                else:\n",
    "                    prediction_list.append(\"Benign\")\n",
    "            return prediction_list\n",
    "\n",
    "        def actual():\n",
    "            actual = list(y_test_label[start_index:end_index])\n",
    "            return actual\n",
    "\n",
    "        predicted_class = predict()\n",
    "        actual_class = actual()\n",
    "\n",
    "        print(f\"\\nPredicted classes: {predicted_class}\")\n",
    "        print(f\"\\nActual classes:    {actual_class}\")"
   ]
  }
 ],
 "metadata": {
  "kernelspec": {
   "display_name": "Python 3 (ipykernel)",
   "language": "python",
   "name": "python3"
  },
  "language_info": {
   "codemirror_mode": {
    "name": "ipython",
    "version": 3
   },
   "file_extension": ".py",
   "mimetype": "text/x-python",
   "name": "python",
   "nbconvert_exporter": "python",
   "pygments_lexer": "ipython3",
   "version": "3.9.7"
  }
 },
 "nbformat": 4,
 "nbformat_minor": 5
}
