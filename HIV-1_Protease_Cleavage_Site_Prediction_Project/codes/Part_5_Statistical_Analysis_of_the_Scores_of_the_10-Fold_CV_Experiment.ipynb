{
 "cells": [
  {
   "cell_type": "markdown",
   "id": "879fcdca",
   "metadata": {},
   "source": [
    "# Import the necessary ML Libraries"
   ]
  },
  {
   "cell_type": "code",
   "execution_count": 1,
   "id": "42fafa3d",
   "metadata": {},
   "outputs": [],
   "source": [
    "# Libraries for managing dataset\n",
    "import pandas as pd\n",
    "import numpy as np\n",
    "from scipy import stats\n",
    "\n",
    "# The defaultdict of collections library\n",
    "from collections import defaultdict as dd\n",
    "\n",
    "# Libraries for data visualization\n",
    "import matplotlib.pyplot as plt\n",
    "import seaborn as sns\n",
    "\n",
    "# Libraries of the ML models\n",
    "from sklearn.discriminant_analysis import LinearDiscriminantAnalysis as LDA\n",
    "from sklearn.discriminant_analysis import QuadraticDiscriminantAnalysis as QDA\n",
    "from sklearn.ensemble import GradientBoostingClassifier as GBC\n",
    "from sklearn.svm import LinearSVC as LSVM\n",
    "from sklearn.neighbors import KNeighborsClassifier as KNN\n",
    "from sklearn.naive_bayes import CategoricalNB as NBC\n",
    "from sklearn.tree import DecisionTreeClassifier as DTC\n",
    "from sklearn.neural_network import MLPClassifier as MLPC\n",
    "from sklearn.linear_model import Perceptron\n",
    "from sklearn.linear_model import LogisticRegression as LR\n",
    "\n",
    "from sklearn.metrics import recall_score, make_scorer\n",
    "\n",
    "# Libraries for cross-validation\n",
    "from sklearn.model_selection import cross_val_score\n",
    "from sklearn.model_selection import StratifiedKFold"
   ]
  },
  {
   "cell_type": "markdown",
   "id": "c50d659b",
   "metadata": {},
   "source": [
    "# Load the final_combined_extracted_octapeptide_features into Pandas DF\n",
    "\n",
    "#                                                          and\n",
    "\n",
    "# Split the Dataset into Training, Validation, and Testing Sets and Assign X and y Variables"
   ]
  },
  {
   "cell_type": "code",
   "execution_count": 2,
   "id": "15d58a9d",
   "metadata": {},
   "outputs": [],
   "source": [
    "df = pd.read_csv(\"../datasets/final_combined_extracted_features_dataset/final_combined_extracted_octapeptide_features.csv\", \n",
    "                 index_col=0)\n",
    "\n",
    "training_set, validation_set, testing_set = np.split(df.sample(frac=1, random_state=123), [int(.7*len(df)), int(.8*len(df))])\n",
    "\n",
    "X_training = training_set.drop([\"cleavage Status\"], axis=1)\n",
    "y_training = training_set[\"cleavage Status\"].copy().map({\"cleaved\": 1, \"uncleaved\": 0})\n",
    "\n",
    "X_validation = validation_set.drop([\"cleavage Status\"], axis=1)\n",
    "y_validation = validation_set[\"cleavage Status\"].copy().map({\"cleaved\": 1, \"uncleaved\": 0})\n",
    "\n",
    "X_testing = testing_set.drop([\"cleavage Status\"], axis=1)\n",
    "y_testing = testing_set[\"cleavage Status\"].copy().map({\"cleaved\": 1, \"uncleaved\": 0})"
   ]
  },
  {
   "cell_type": "markdown",
   "id": "093643bc",
   "metadata": {},
   "source": [
    "# 10-Fold Cross Validation Experiment using the Training Dataset"
   ]
  },
  {
   "cell_type": "code",
   "execution_count": 3,
   "id": "413f367c",
   "metadata": {
    "scrolled": true
   },
   "outputs": [],
   "source": [
    "## Instantiating the classifier classes and storing in a list\n",
    "clf_list_for_CV = [(LSVM(random_state=0, tol=1e-5, C=5), \"LinearSVC\"),\n",
    "    (LDA(solver=\"svd\", tol=1e-8), \"LinearDiscriminantAnalysis\"),\n",
    "    (GBC(n_estimators=800, learning_rate=1.0, max_depth=1, random_state=0, \n",
    "         tol=1e-10, ccp_alpha=0.0), \"GradientBoostingClassifier\"),\n",
    "    (KNN(n_neighbors=4, n_jobs=-1, metric=\"minkowski\", leaf_size=30, p=2, \n",
    "         weights=\"distance\"), \"KNeighorsClassifier\"),\n",
    "    (NBC(alpha=0), \"CategoricalNB\"),\n",
    "    (DTC(criterion=\"gini\", splitter=\"best\", max_depth=None, ccp_alpha=0.0), \"DecisionTreeClassifier\"),\n",
    "    (MLPC(hidden_layer_sizes=100, activation =\"relu\", solver=\"adam\", alpha=0.0001, \n",
    "          learning_rate=\"adaptive\", max_iter=200, tol=1e-4, momentum=0.9, epsilon=1e-8,), \"MLPClassifier\"),\n",
    "    (Perceptron(penalty=\"l2\", alpha=0.0000001, max_iter=4000, tol=1e-7, eta0=2, n_jobs=-1), \"Perceptron\"),       \n",
    "    (LR(random_state=0, penalty=\"l2\", tol=1e-3, C=0.99, solver=\"lbfgs\", max_iter=150,\n",
    "       n_jobs=-1), \"LogisticRegression\")]\n",
    "\n",
    "# Since specificity_score is not specified directly in sklearn, we create it using the make_scorer function\n",
    "specificity = make_scorer(recall_score, pos_label=0)\n",
    "sensitivity = make_scorer(recall_score, pos_label=1) # although, this is direcly available in sklearn, but we still chose to \n",
    "                                                     # create it with the make_scorer function to avoid confusion\n",
    "scores = dd(list)\n",
    "\n",
    "\n",
    "\n",
    "for clf, name in clf_list_for_CV:\n",
    "    scores[\"Classifier\"].append(name)\n",
    "    cv = StratifiedKFold(n_splits=10, random_state=1, shuffle=True)\n",
    "    score = cross_val_score(clf, X_training.values, y_training.values, scoring=\"balanced_accuracy\", cv=cv, n_jobs=-1)\n",
    "    scores[\"Balanced Accuracy\"].append(score)\n",
    "    score = cross_val_score(clf, X_training.values, y_training.values, scoring=sensitivity, cv=cv, n_jobs=-1)\n",
    "    scores[\"Sensitivity\"].append(score)\n",
    "    score = cross_val_score(clf, X_training.values, y_training.values, scoring=specificity, cv=cv, n_jobs=-1)\n",
    "    scores[\"Specificity\"].append(score)\n",
    "    score = cross_val_score(clf, X_training.values, y_training.values, scoring=\"f1_macro\", cv=cv, n_jobs=-1)\n",
    "    scores[\"F1 Index\"].append(score)\n",
    "    score = cross_val_score(clf, X_training.values, y_training.values, scoring=\"roc_auc\", cv=cv, n_jobs=-1)\n",
    "    scores[\"AUC\"].append(score)\n",
    "    score = cross_val_score(clf, X_training.values, y_training.values, scoring=\"jaccard_macro\", cv=cv, n_jobs=-1)\n",
    "    scores[\"JI\"].append(score)\n",
    "\n",
    "# A more succint and Pythonic way of doing the above code is shown below which complies with DRY   \n",
    "\n",
    "# metrics = [(\"Balanced Accuracy\", \"balanced_accuracy\"), (\"Specificity\", specificity), (\"Sensitivity\", sensitivity), \n",
    "#            (\"F1 Index\", \"f1_macro\"), (\"AUC\", \"roc_auc\"), (\"JI\", \"jaccard_macro\")]\n",
    "\n",
    "# for clf, name in clf_list_for_CV:\n",
    "#     scores[\"Classifier\"].append(name)\n",
    "#     for metric_id, metric in metrics:\n",
    "#         cv = StratifiedKFold(n_splits=10, random_state=1, shuffle=True)\n",
    "#         score = cross_val_score(clf, X_training.values, y_training.values, scoring=metric, cv=cv, n_jobs=-1)\n",
    "#         scores[metric_id].append(score)"
   ]
  },
  {
   "cell_type": "code",
   "execution_count": 4,
   "id": "a8c99c63",
   "metadata": {
    "scrolled": false
   },
   "outputs": [
    {
     "data": {
      "text/plain": [
       "defaultdict(list,\n",
       "            {'Classifier': ['LinearSVC',\n",
       "              'LinearDiscriminantAnalysis',\n",
       "              'GradientBoostingClassifier',\n",
       "              'KNeighorsClassifier',\n",
       "              'CategoricalNB',\n",
       "              'DecisionTreeClassifier',\n",
       "              'MLPClassifier',\n",
       "              'Perceptron',\n",
       "              'LogisticRegression'],\n",
       "             'Balanced Accuracy': [array([0.83879849, 0.89698389, 0.87011012, 0.73464455, 0.81654721,\n",
       "                     0.79394116, 0.79029502, 0.625     , 0.88402572, 0.66666667]),\n",
       "              array([0.88650559, 0.85178337, 0.89049145, 0.80956746, 0.788024  ,\n",
       "                     0.84365364, 0.87105175, 0.86568579, 0.87162051, 0.79374794]),\n",
       "              array([0.6097551 , 0.84335963, 0.88354701, 0.87773981, 0.80062922,\n",
       "                     0.58829902, 0.84661222, 0.85773162, 0.86117293, 0.83790801]),\n",
       "              array([0.67044707, 0.74876726, 0.69173241, 0.68689057, 0.65653388,\n",
       "                     0.71393449, 0.67393116, 0.71985246, 0.67225107, 0.61426393]),\n",
       "              array([       nan, 0.84188034, 0.85872781, 0.8495708 , 0.79246187,\n",
       "                            nan, 0.82879823, 0.8255028 , 0.81208787,        nan]),\n",
       "              array([0.78496877, 0.81023997, 0.75365713, 0.71843487, 0.7587924 ,\n",
       "                     0.78139845, 0.7584382 , 0.73629657, 0.79327399, 0.65147956]),\n",
       "              array([0.88798488, 0.91781723, 0.9351167 , 0.84400783, 0.8947829 ,\n",
       "                     0.8332361 , 0.8640095 , 0.85422849, 0.88598335, 0.79570557]),\n",
       "              array([0.5       , 0.78451677, 0.5       , 0.66978498, 0.7444162 ,\n",
       "                     0.5       , 0.5       , 0.50546076, 0.5       , 0.79150181]),\n",
       "              array([0.89242275, 0.86863083, 0.91177679, 0.85809234, 0.81950579,\n",
       "                     0.85957163, 0.85992583, 0.87310419, 0.87405209, 0.81903231])],\n",
       "             'Sensitivity': [array([0.68055556, 0.84722222, 0.76388889, 0.49295775, 0.64788732,\n",
       "                     0.6056338 , 0.98591549, 0.25      , 0.83333333, 0.33333333]),\n",
       "              array([0.80555556, 0.73611111, 0.81944444, 0.69014085, 0.6056338 ,\n",
       "                     0.74647887, 0.77464789, 0.80555556, 0.80555556, 0.65277778]),\n",
       "              array([0.26388889, 0.72222222, 0.80555556, 0.8028169 , 0.63380282,\n",
       "                     0.25352113, 0.74647887, 0.77777778, 0.76388889, 0.75      ]),\n",
       "              array([0.44444444, 0.58333333, 0.47222222, 0.45070423, 0.42253521,\n",
       "                     0.49295775, 0.43661972, 0.51388889, 0.43055556, 0.34722222]),\n",
       "              array([       nan, 0.72222222, 0.75      , 0.74647887, 0.6056338 ,\n",
       "                            nan, 0.69014085, 0.72222222, 0.68055556,        nan]),\n",
       "              array([0.68055556, 0.69444444, 0.58333333, 0.53521127, 0.64788732,\n",
       "                     0.63380282, 0.57746479, 0.58333333, 0.625     , 0.43055556]),\n",
       "              array([0.84722222, 0.76388889, 0.83333333, 0.64788732, 0.78873239,\n",
       "                     0.77464789, 0.78873239, 0.77777778, 0.79166667, 0.68055556]),\n",
       "              array([1.        , 0.66666667, 0.        , 0.36619718, 0.63380282,\n",
       "                     0.        , 0.        , 0.01388889, 0.        , 0.80555556]),\n",
       "              array([0.80555556, 0.76388889, 0.84722222, 0.76056338, 0.64788732,\n",
       "                     0.76056338, 0.74647887, 0.80555556, 0.77777778, 0.69444444])],\n",
       "             'Specificity': [array([0.99704142, 0.94674556, 0.97633136, 0.97633136, 0.9852071 ,\n",
       "                     0.98224852, 0.59467456, 1.        , 0.9347181 , 1.        ]),\n",
       "              array([0.96745562, 0.96745562, 0.96153846, 0.92899408, 0.9704142 ,\n",
       "                     0.9408284 , 0.96745562, 0.92581602, 0.93768546, 0.9347181 ]),\n",
       "              array([0.9556213 , 0.96449704, 0.96153846, 0.95266272, 0.96745562,\n",
       "                     0.92307692, 0.94674556, 0.93768546, 0.95845697, 0.92581602]),\n",
       "              array([0.8964497 , 0.91420118, 0.9112426 , 0.92307692, 0.89053254,\n",
       "                     0.93491124, 0.9112426 , 0.92581602, 0.91394659, 0.88130564]),\n",
       "              array([       nan, 0.96153846, 0.96745562, 0.95266272, 0.97928994,\n",
       "                            nan, 0.96745562, 0.92878338, 0.94362018,        nan]),\n",
       "              array([0.91715976, 0.91420118, 0.93786982, 0.90236686, 0.93195266,\n",
       "                     0.9112426 , 0.91715976, 0.90504451, 0.91394659, 0.88724036]),\n",
       "              array([0.97337278, 0.95857988, 0.98224852, 0.9704142 , 0.98224852,\n",
       "                     0.95266272, 0.97337278, 0.97032641, 0.96735905, 0.93175074]),\n",
       "              array([0.        , 0.90236686, 1.        , 0.97337278, 0.85502959,\n",
       "                     1.        , 1.        , 0.99703264, 1.        , 0.77744807]),\n",
       "              array([0.97928994, 0.97337278, 0.97633136, 0.9556213 , 0.99112426,\n",
       "                     0.95857988, 0.97337278, 0.94065282, 0.97032641, 0.94362018])],\n",
       "             'F1 Index': [array([0.88444737, 0.88229937, 0.88915923, 0.77576754, 0.85549746,\n",
       "                     0.83397803, 0.62402078, 0.66291209, 0.86400798, 0.716759  ]),\n",
       "              array([0.89293809, 0.86777606, 0.89049145, 0.80615315, 0.81939667,\n",
       "                     0.83986564, 0.88163607, 0.84478178, 0.85786908, 0.79862137]),\n",
       "              array([0.63162624, 0.85896113, 0.88565349, 0.87357814, 0.82755792,\n",
       "                     0.60033397, 0.84661222, 0.84818571, 0.8671758 , 0.82538201]),\n",
       "              array([0.67514975, 0.7501317 , 0.7002924 , 0.7008922 , 0.66003836,\n",
       "                     0.73140851, 0.68382808, 0.73225975, 0.68382808, 0.6186051 ]),\n",
       "              array([       nan, 0.85540392, 0.87293072, 0.85349768, 0.8302643 ,\n",
       "                            nan, 0.85002833, 0.81851553, 0.81902655,        nan]),\n",
       "              array([0.80212355, 0.82500711, 0.78218369, 0.71389033, 0.77843987,\n",
       "                     0.76731985, 0.74432354, 0.73047639, 0.77374743, 0.64601879]),\n",
       "              array([0.90631102, 0.88457207, 0.9177046 , 0.84452147, 0.8330509 ,\n",
       "                     0.86566152, 0.87357814, 0.85533297, 0.87493885, 0.84311469]),\n",
       "              array([0.14937759, 0.77099685, 0.45187166, 0.70736167, 0.71530001,\n",
       "                     0.45247657, 0.45247657, 0.46512642, 0.45174263, 0.71033303]),\n",
       "              array([0.90798431, 0.88540592, 0.91863295, 0.86211547, 0.86327603,\n",
       "                     0.86566152, 0.87878821, 0.86121756, 0.88667945, 0.82432928])],\n",
       "             'AUC': [array([0.97353715, 0.96211374, 0.97760519, 0.9504542 , 0.95016251,\n",
       "                     0.95712143, 0.96824735, 0.96276377, 0.95841576, 0.93607814]),\n",
       "              array([0.96667488, 0.95525148, 0.97579717, 0.94224519, 0.94220352,\n",
       "                     0.95370448, 0.9603717 , 0.95608721, 0.95515991, 0.92437356]),\n",
       "              array([0.67944609, 0.93963675, 0.97222222, 0.94712059, 0.94591216,\n",
       "                     0.68818235, 0.96170514, 0.94664936, 0.95722057, 0.92903066]),\n",
       "              array([0.77017587, 0.83596318, 0.75540352, 0.82333944, 0.77256438,\n",
       "                     0.79237853, 0.72197683, 0.81101632, 0.78227003, 0.66454418]),\n",
       "              array([       nan, 0.92919954, 0.94715648, 0.93891158, 0.93570298,\n",
       "                            nan, 0.93936995, 0.92892763, 0.8876937 ,        nan]),\n",
       "              array([0.80374753, 0.80728139, 0.77153189, 0.7140595 , 0.77675223,\n",
       "                     0.76185515, 0.74027002, 0.72733267, 0.79380976, 0.63610699]),\n",
       "              array([0.97739974, 0.96425049, 0.98389218, 0.9543712 , 0.95782982,\n",
       "                     0.96424702, 0.96645554, 0.95633449, 0.96447412, 0.94019947]),\n",
       "              array([0.77214826, 0.87442472, 0.73196088, 0.87665639, 0.84048671,\n",
       "                     0.77810651, 0.7951496 , 0.88248022, 0.73932575, 0.86688098]),\n",
       "              array([0.97682446, 0.96466141, 0.98076923, 0.95662139, 0.95728811,\n",
       "                     0.95978832, 0.96953913, 0.9631759 , 0.96319651, 0.94283712])],\n",
       "             'JI': [array([0.80237544, 0.79734161, 0.80853873, 0.66269546, 0.76130926,\n",
       "                     0.73277269, 0.46472941, 0.55594629, 0.77043833, 0.604329  ]),\n",
       "              array([0.81388623, 0.7772603 , 0.81002179, 0.69400585, 0.71351953,\n",
       "                     0.737838  , 0.79723026, 0.74341352, 0.76197041, 0.68508287]),\n",
       "              array([0.52223888, 0.76483107, 0.8028242 , 0.78497257, 0.72356607,\n",
       "                     0.49176049, 0.74719101, 0.74866734, 0.77598213, 0.71778714]),\n",
       "              array([0.55032636, 0.62775775, 0.57624113, 0.57874156, 0.53598651,\n",
       "                     0.61063194, 0.56087275, 0.61007649, 0.56087275, 0.49832589]),\n",
       "              array([       nan, 0.75979297, 0.78457087, 0.75684489, 0.72782682,\n",
       "                            nan, 0.75294715, 0.70920868, 0.71089744,        nan]),\n",
       "              array([0.69831143, 0.70519208, 0.67485619, 0.58199643, 0.66306853,\n",
       "                     0.62677065, 0.64066898, 0.62339744, 0.65080727, 0.52574915]),\n",
       "              array([0.84338578, 0.8095215 , 0.86163793, 0.72568493, 0.73219007,\n",
       "                     0.77714228, 0.72713768, 0.78525772, 0.79723026, 0.74896552]),\n",
       "              array([0.08780488, 0.64984215, 0.41219512, 0.59200392, 0.58447802,\n",
       "                     0.41320293, 0.41320293, 0.41861402, 0.41198044, 0.57049828]),\n",
       "              array([0.83725906, 0.80288645, 0.85402937, 0.76888307, 0.77224332,\n",
       "                     0.77398509, 0.79332865, 0.76678434, 0.80463622, 0.71762221])]})"
      ]
     },
     "execution_count": 4,
     "metadata": {},
     "output_type": "execute_result"
    }
   ],
   "source": [
    "scores"
   ]
  },
  {
   "cell_type": "markdown",
   "id": "9e273e14",
   "metadata": {},
   "source": [
    "# Create Various DFs to Store Each of the Metrics Contained in the Scores Dictionary"
   ]
  },
  {
   "cell_type": "code",
   "execution_count": 5,
   "id": "27a0b9f1",
   "metadata": {
    "scrolled": true
   },
   "outputs": [],
   "source": [
    "clf_names=[\"LSVC\", \"LDA\",\"GBC\",\"KNN\", \"NBC\", \"DTC\", \"MLPC\", \"PC\", \"LR\"]\n",
    "\n",
    "BA = pd.DataFrame(scores['Balanced Accuracy'], index=clf_names).T\n",
    "BA.fillna(BA['NBC'].mean(), inplace=True)\n",
    "df_BA = BA.round(2)\n",
    "\n",
    "Sen = pd.DataFrame(scores['Sensitivity'], index=clf_names).T\n",
    "Sen.fillna(Sen['NBC'].mean(), inplace=True)\n",
    "df_Sen = Sen.round(2)\n",
    "\n",
    "Spec = pd.DataFrame(scores['Specificity'], index=clf_names).T\n",
    "Spec.fillna(Spec['NBC'].mean(), inplace=True)\n",
    "df_Spec = Spec.round(2)\n",
    "\n",
    "FI = pd.DataFrame(scores['F1 Index'], index=clf_names).T\n",
    "FI.fillna(FI['NBC'].mean(), inplace=True)\n",
    "df_FI = FI.round(2)\n",
    "\n",
    "AUC = pd.DataFrame(scores['AUC'], index=clf_names).T\n",
    "AUC.fillna(AUC['NBC'].mean(), inplace=True)\n",
    "df_AUC = AUC.round(2)\n",
    "\n",
    "JI = pd.DataFrame(scores['JI'], index=clf_names).T\n",
    "JI.fillna(JI['NBC'].mean(), inplace=True)\n",
    "df_JI = JI.round(2)"
   ]
  },
  {
   "cell_type": "code",
   "execution_count": 6,
   "id": "1fdb0b08",
   "metadata": {
    "scrolled": false
   },
   "outputs": [],
   "source": [
    "df_BA.to_csv(\"../results/10-Fold_CV_Result_For_Balanced_Accuracy.csv\")\n",
    "df_Sen.to_csv(\"../results/10-Fold_CV_Result_For_Sensitivity.csv\")\n",
    "df_Spec.to_csv(\"../results/10-Fold_CV_Result_For_Specificity.csv\")\n",
    "df_FI.to_csv(\"../results/10-Fold_CV_Result_For_F1-Index.csv\")\n",
    "df_AUC.to_csv(\"../results/10-Fold_CV_Result_For_AUC.csv\")\n",
    "df_JI.to_csv(\"../results/10-Fold_CV_Result_For_Jaccard_Index.csv\")"
   ]
  },
  {
   "cell_type": "markdown",
   "id": "c8210b8a",
   "metadata": {},
   "source": [
    "# Plot the Distribution of the Scores of Performance Metrics Across the Models "
   ]
  },
  {
   "cell_type": "code",
   "execution_count": 7,
   "id": "0d3a2207",
   "metadata": {
    "scrolled": false
   },
   "outputs": [
    {
     "name": "stderr",
     "output_type": "stream",
     "text": [
      "C:\\Users\\USER\\AppData\\Local\\Temp/ipykernel_3612/1949117024.py:16: UserWarning: Matplotlib is currently using module://matplotlib_inline.backend_inline, which is a non-GUI backend, so cannot show the figure.\n",
      "  fig.show()\n"
     ]
    },
    {
     "data": {
      "image/png": "[encoded data removed]",
      "text/plain": [
       "<Figure size 792x648 with 6 Axes>"
      ]
     },
     "metadata": {
      "needs_background": "light"
     },
     "output_type": "display_data"
    }
   ],
   "source": [
    "titles = [\"a\", \"b\", \"c\", \"d\", \"e\", \"f\"]\n",
    "\n",
    "metrics = [df_BA, df_Sen, df_Spec, df_FI, df_AUC, df_JI]\n",
    "\n",
    "fig, axes = plt.subplots(nrows=2, ncols=3, figsize=(11, 9))\n",
    "\n",
    "for metric, ax, title in zip(metrics, axes.flatten(), titles):\n",
    "    ax.boxplot(metric, vert=False, labels=clf_names, widths=0.6, patch_artist=True, showfliers=False)\n",
    "    ax.set_title(label=title, loc=\"left\", fontsize=16)\n",
    "    ax.grid(False)\n",
    "    ax.set(xlabel=None)\n",
    "    ax.set(ylabel=None)\n",
    "      \n",
    "fig.tight_layout() \n",
    "fig.savefig('../results/Distribution_of_the_Performance_Metrics_Across_the_Models.png', dpi=1200)\n",
    "fig.show()"
   ]
  },
  {
   "cell_type": "code",
   "execution_count": 8,
   "id": "3dacc933",
   "metadata": {
    "scrolled": false
   },
   "outputs": [],
   "source": [
    "from scipy.stats import mannwhitneyu as mwt\n",
    "from scipy.stats import alexandergovern as agt"
   ]
  },
  {
   "cell_type": "code",
   "execution_count": 10,
   "id": "0eac8a5e",
   "metadata": {
    "scrolled": false
   },
   "outputs": [],
   "source": [
    "p_values = dd(list)\n",
    "\n",
    "for model in [\"LSVC\", \"LDA\", \"GBC\", \"KNN\", \"NBC\", \"DTC\", \"MLPC\", \"PC\", \"LR\"]:\n",
    "    _, p = mwt(df_BA[model], df_BA[\"LSVC\"])\n",
    "    p_values[model].append(p)  "
   ]
  },
  {
   "cell_type": "code",
   "execution_count": 11,
   "id": "16980187",
   "metadata": {},
   "outputs": [
    {
     "data": {
      "text/plain": [
       "defaultdict(list,\n",
       "            {'LSVC': [1.0],\n",
       "             'LDA': [0.20848999683273262],\n",
       "             'GBC': [0.6764349997242503],\n",
       "             'KNN': [0.012214156383963727],\n",
       "             'NBC': [0.4921950520225352],\n",
       "             'DTC': [0.13956906564539745],\n",
       "             'MLPC': [0.03388886564396672],\n",
       "             'PC': [0.0037326491097394174],\n",
       "             'LR': [0.07991317509998398]})"
      ]
     },
     "execution_count": 11,
     "metadata": {},
     "output_type": "execute_result"
    }
   ],
   "source": [
    "p_values"
   ]
  },
  {
   "cell_type": "code",
   "execution_count": 13,
   "id": "a5690c03",
   "metadata": {},
   "outputs": [
    {
     "data": {
      "text/html": [
       "<div>\n",
       "<style scoped>\n",
       "    .dataframe tbody tr th:only-of-type {\n",
       "        vertical-align: middle;\n",
       "    }\n",
       "\n",
       "    .dataframe tbody tr th {\n",
       "        vertical-align: top;\n",
       "    }\n",
       "\n",
       "    .dataframe thead th {\n",
       "        text-align: right;\n",
       "    }\n",
       "</style>\n",
       "<table border=\"1\" class=\"dataframe\">\n",
       "  <thead>\n",
       "    <tr style=\"text-align: right;\">\n",
       "      <th></th>\n",
       "      <th>p-value</th>\n",
       "    </tr>\n",
       "  </thead>\n",
       "  <tbody>\n",
       "    <tr>\n",
       "      <th>LSVC</th>\n",
       "      <td>1.0000</td>\n",
       "    </tr>\n",
       "    <tr>\n",
       "      <th>LDA</th>\n",
       "      <td>0.2085</td>\n",
       "    </tr>\n",
       "    <tr>\n",
       "      <th>GBC</th>\n",
       "      <td>0.6764</td>\n",
       "    </tr>\n",
       "    <tr>\n",
       "      <th>KNN</th>\n",
       "      <td>0.0122</td>\n",
       "    </tr>\n",
       "    <tr>\n",
       "      <th>NBC</th>\n",
       "      <td>0.4922</td>\n",
       "    </tr>\n",
       "    <tr>\n",
       "      <th>DTC</th>\n",
       "      <td>0.1396</td>\n",
       "    </tr>\n",
       "    <tr>\n",
       "      <th>MLPC</th>\n",
       "      <td>0.0339</td>\n",
       "    </tr>\n",
       "    <tr>\n",
       "      <th>PC</th>\n",
       "      <td>0.0037</td>\n",
       "    </tr>\n",
       "    <tr>\n",
       "      <th>LR</th>\n",
       "      <td>0.0799</td>\n",
       "    </tr>\n",
       "  </tbody>\n",
       "</table>\n",
       "</div>"
      ],
      "text/plain": [
       "      p-value\n",
       "LSVC   1.0000\n",
       "LDA    0.2085\n",
       "GBC    0.6764\n",
       "KNN    0.0122\n",
       "NBC    0.4922\n",
       "DTC    0.1396\n",
       "MLPC   0.0339\n",
       "PC     0.0037\n",
       "LR     0.0799"
      ]
     },
     "execution_count": 13,
     "metadata": {},
     "output_type": "execute_result"
    }
   ],
   "source": [
    "p_values_df = pd.DataFrame(p_values, index=[\"p-value\"]).T.astype(float).round(4)\n",
    "p_values_df.to_csv(\"../results/p_values.csv\")\n",
    "p_values_df"
   ]
  },
  {
   "cell_type": "code",
   "execution_count": null,
   "id": "d20c2904",
   "metadata": {},
   "outputs": [],
   "source": [
    "df_Sen"
   ]
  }
 ],
 "metadata": {
  "kernelspec": {
   "display_name": "Python 3 (ipykernel)",
   "language": "python",
   "name": "python3"
  },
  "language_info": {
   "codemirror_mode": {
    "name": "ipython",
    "version": 3
   },
   "file_extension": ".py",
   "mimetype": "text/x-python",
   "name": "python",
   "nbconvert_exporter": "python",
   "pygments_lexer": "ipython3",
   "version": "3.9.7"
  }
 },
 "nbformat": 4,
 "nbformat_minor": 5
}
