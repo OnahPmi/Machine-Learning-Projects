{
 "cells": [
  {
   "cell_type": "code",
   "execution_count": 1,
   "id": "a0f98dc8-4630-4a29-84fd-dd150782ab27",
   "metadata": {},
   "outputs": [],
   "source": [
    "import pandas as pd"
   ]
  },
  {
   "cell_type": "markdown",
   "id": "56f7d5f7-58fd-490c-a280-2c9104447f81",
   "metadata": {},
   "source": [
    "# Part 1: Datasets Combination"
   ]
  },
  {
   "cell_type": "markdown",
   "id": "0c02751c-9c61-4d77-af37-7a658391a7c1",
   "metadata": {},
   "source": [
    "## Load the datasets and check the number of columns of each dataset"
   ]
  },
  {
   "cell_type": "code",
   "execution_count": 2,
   "id": "1a3d4083",
   "metadata": {},
   "outputs": [],
   "source": [
    "columns_to_retain = [\"SEQN\", \"SMQ690H\", \"SMQ849\"]"
   ]
  },
  {
   "cell_type": "code",
   "execution_count": 3,
   "id": "07ace080-878b-44e9-94c7-b1c0c73e1af2",
   "metadata": {
    "scrolled": false
   },
   "outputs": [],
   "source": [
    "cigarettes_2017 = pd.read_sas(\"SMQRTU_I.XPT September 2017.XPT\")\n",
    "\n",
    "cigarettes_2017 = cigarettes_2017[columns_to_retain]\n",
    "\n",
    "cigarettes_2017[\"SMQ690H\"] = cigarettes_2017[\"SMQ690H\"].fillna(0)\n",
    "\n",
    "cigarettes_2017 = cigarettes_2017.fillna(cigarettes_2017.median()).round()"
   ]
  },
  {
   "cell_type": "code",
   "execution_count": 4,
   "id": "1386a491",
   "metadata": {},
   "outputs": [],
   "source": [
    "cigarettes_2018 = pd.read_sas(\"SMQRTU_H.XPT Updated February 2018.XPT\")\n",
    "\n",
    "cigarettes_2018 = cigarettes_2018[columns_to_retain]\n",
    "\n",
    "cigarettes_2018[\"SMQ690H\"] = cigarettes_2018[\"SMQ690H\"].fillna(0)\n",
    "\n",
    "cigarettes_2018 = cigarettes_2018.fillna(cigarettes_2018.median()).round()"
   ]
  },
  {
   "cell_type": "code",
   "execution_count": 5,
   "id": "6bdecf1b",
   "metadata": {},
   "outputs": [],
   "source": [
    "cigarettes_2020 = pd.read_sas(\"SMQRTU_J.XPT February 2020.XPT\")\n",
    "\n",
    "cigarettes_2020 = cigarettes_2020[columns_to_retain]\n",
    "\n",
    "cigarettes_2020[\"SMQ690H\"] = cigarettes_2020[\"SMQ690H\"].fillna(0)\n",
    "\n",
    "cigarettes_2020 = cigarettes_2020.fillna(cigarettes_2020.median()).round()"
   ]
  },
  {
   "cell_type": "code",
   "execution_count": 6,
   "id": "cd5aae2d-90bb-4776-b627-187f6f21fb9a",
   "metadata": {},
   "outputs": [],
   "source": [
    "cigarettes_2021 = pd.read_sas(\"P_SMQRTU.XPT August 2021.XPT\")\n",
    "\n",
    "cigarettes_2021 = cigarettes_2021[columns_to_retain]\n",
    "\n",
    "cigarettes_2021[\"SMQ690H\"] = cigarettes_2021[\"SMQ690H\"].fillna(0)\n",
    "\n",
    "cigarettes_2021 = cigarettes_2021.fillna(cigarettes_2021.median()).round()"
   ]
  },
  {
   "cell_type": "code",
   "execution_count": 7,
   "id": "7159d7ec",
   "metadata": {
    "scrolled": true
   },
   "outputs": [
    {
     "name": "stdout",
     "output_type": "stream",
     "text": [
      "Number of rows after joining the datasets should be: 30533\n"
     ]
    }
   ],
   "source": [
    "df_e_cigarette = pd.concat([cigarettes_2017, cigarettes_2018, cigarettes_2020, cigarettes_2021], ignore_index=True)\n",
    "\n",
    "print(\"Number of rows after joining the datasets should be:\", len(cigarettes_2017) + len(cigarettes_2018) + len(cigarettes_2020) + len(cigarettes_2021))"
   ]
  },
  {
   "cell_type": "code",
   "execution_count": 8,
   "id": "ccb8026f",
   "metadata": {
    "scrolled": false
   },
   "outputs": [
    {
     "data": {
      "text/plain": [
       "0.0    29933\n",
       "8.0      600\n",
       "Name: SMQ690H, dtype: int64"
      ]
     },
     "execution_count": 8,
     "metadata": {},
     "output_type": "execute_result"
    }
   ],
   "source": [
    "df_e_cigarette[\"SMQ690H\"].value_counts()"
   ]
  },
  {
   "cell_type": "code",
   "execution_count": 9,
   "id": "054fc948",
   "metadata": {
    "scrolled": true
   },
   "outputs": [
    {
     "data": {
      "text/html": [
       "<div>\n",
       "<style scoped>\n",
       "    .dataframe tbody tr th:only-of-type {\n",
       "        vertical-align: middle;\n",
       "    }\n",
       "\n",
       "    .dataframe tbody tr th {\n",
       "        vertical-align: top;\n",
       "    }\n",
       "\n",
       "    .dataframe thead th {\n",
       "        text-align: right;\n",
       "    }\n",
       "</style>\n",
       "<table border=\"1\" class=\"dataframe\">\n",
       "  <thead>\n",
       "    <tr style=\"text-align: right;\">\n",
       "      <th></th>\n",
       "      <th>SEQN</th>\n",
       "      <th>SMQ690H</th>\n",
       "      <th>SMQ849</th>\n",
       "    </tr>\n",
       "  </thead>\n",
       "  <tbody>\n",
       "    <tr>\n",
       "      <th>0</th>\n",
       "      <td>83732.0</td>\n",
       "      <td>0.0</td>\n",
       "      <td>3.0</td>\n",
       "    </tr>\n",
       "    <tr>\n",
       "      <th>1</th>\n",
       "      <td>83733.0</td>\n",
       "      <td>0.0</td>\n",
       "      <td>3.0</td>\n",
       "    </tr>\n",
       "    <tr>\n",
       "      <th>2</th>\n",
       "      <td>83734.0</td>\n",
       "      <td>0.0</td>\n",
       "      <td>3.0</td>\n",
       "    </tr>\n",
       "    <tr>\n",
       "      <th>3</th>\n",
       "      <td>83735.0</td>\n",
       "      <td>0.0</td>\n",
       "      <td>3.0</td>\n",
       "    </tr>\n",
       "    <tr>\n",
       "      <th>4</th>\n",
       "      <td>83736.0</td>\n",
       "      <td>0.0</td>\n",
       "      <td>3.0</td>\n",
       "    </tr>\n",
       "    <tr>\n",
       "      <th>...</th>\n",
       "      <td>...</td>\n",
       "      <td>...</td>\n",
       "      <td>...</td>\n",
       "    </tr>\n",
       "    <tr>\n",
       "      <th>30528</th>\n",
       "      <td>124815.0</td>\n",
       "      <td>0.0</td>\n",
       "      <td>4.0</td>\n",
       "    </tr>\n",
       "    <tr>\n",
       "      <th>30529</th>\n",
       "      <td>124817.0</td>\n",
       "      <td>0.0</td>\n",
       "      <td>4.0</td>\n",
       "    </tr>\n",
       "    <tr>\n",
       "      <th>30530</th>\n",
       "      <td>124818.0</td>\n",
       "      <td>0.0</td>\n",
       "      <td>4.0</td>\n",
       "    </tr>\n",
       "    <tr>\n",
       "      <th>30531</th>\n",
       "      <td>124821.0</td>\n",
       "      <td>0.0</td>\n",
       "      <td>4.0</td>\n",
       "    </tr>\n",
       "    <tr>\n",
       "      <th>30532</th>\n",
       "      <td>124822.0</td>\n",
       "      <td>0.0</td>\n",
       "      <td>4.0</td>\n",
       "    </tr>\n",
       "  </tbody>\n",
       "</table>\n",
       "<p>30533 rows × 3 columns</p>\n",
       "</div>"
      ],
      "text/plain": [
       "           SEQN  SMQ690H  SMQ849\n",
       "0       83732.0      0.0     3.0\n",
       "1       83733.0      0.0     3.0\n",
       "2       83734.0      0.0     3.0\n",
       "3       83735.0      0.0     3.0\n",
       "4       83736.0      0.0     3.0\n",
       "...         ...      ...     ...\n",
       "30528  124815.0      0.0     4.0\n",
       "30529  124817.0      0.0     4.0\n",
       "30530  124818.0      0.0     4.0\n",
       "30531  124821.0      0.0     4.0\n",
       "30532  124822.0      0.0     4.0\n",
       "\n",
       "[30533 rows x 3 columns]"
      ]
     },
     "execution_count": 9,
     "metadata": {},
     "output_type": "execute_result"
    }
   ],
   "source": [
    "# df_e_cigarette.dropna(inplace=True)\n",
    "df_e_cigarette"
   ]
  },
  {
   "cell_type": "code",
   "execution_count": 10,
   "id": "0bbab320",
   "metadata": {},
   "outputs": [
    {
     "data": {
      "text/plain": [
       "SEQN       0\n",
       "SMQ690H    0\n",
       "SMQ849     0\n",
       "dtype: int64"
      ]
     },
     "execution_count": 10,
     "metadata": {},
     "output_type": "execute_result"
    }
   ],
   "source": [
    "df_e_cigarette.isna().sum()"
   ]
  },
  {
   "cell_type": "markdown",
   "id": "aeb3f0e3-3e4e-492d-a6b4-8151a44e89bd",
   "metadata": {},
   "source": [
    "# Part 3: Save the cleaned dataset"
   ]
  },
  {
   "cell_type": "code",
   "execution_count": 11,
   "id": "f2dcbc71-4147-4281-ac7b-63a5d14c2af5",
   "metadata": {},
   "outputs": [],
   "source": [
    "df_e_cigarette.to_csv(\"cleaned_data/cleaned_e-cigarettes_data.csv\", index=False)"
   ]
  }
 ],
 "metadata": {
  "kernelspec": {
   "display_name": "Python 3 (ipykernel)",
   "language": "python",
   "name": "python3"
  },
  "language_info": {
   "codemirror_mode": {
    "name": "ipython",
    "version": 3
   },
   "file_extension": ".py",
   "mimetype": "text/x-python",
   "name": "python",
   "nbconvert_exporter": "python",
   "pygments_lexer": "ipython3",
   "version": "3.9.7"
  }
 },
 "nbformat": 4,
 "nbformat_minor": 5
}
