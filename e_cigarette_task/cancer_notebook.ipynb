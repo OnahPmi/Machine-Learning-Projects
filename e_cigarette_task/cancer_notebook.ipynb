{
 "cells": [
  {
   "cell_type": "code",
   "execution_count": 1,
   "id": "0a2357ce-80c4-49de-8f68-1c858f856adc",
   "metadata": {},
   "outputs": [],
   "source": [
    "import pandas as pd"
   ]
  },
  {
   "cell_type": "markdown",
   "id": "cb207479-fa69-4a66-8760-9b4f4b8f9cb8",
   "metadata": {},
   "source": [
    "# Part 1: Datasets Combination"
   ]
  },
  {
   "cell_type": "markdown",
   "id": "ff4ca3e5-2d59-4569-b635-7c9d787909ba",
   "metadata": {},
   "source": [
    "## Load the datasets and check the number of columns of each dataset"
   ]
  },
  {
   "cell_type": "code",
   "execution_count": 2,
   "id": "6ea1dd2f",
   "metadata": {},
   "outputs": [],
   "source": [
    "columns_to_retain = [\"SEQN\", \"MCQ220\", \"MCQ010\", \"MCQ053\"]"
   ]
  },
  {
   "cell_type": "code",
   "execution_count": 3,
   "id": "22ce5d13",
   "metadata": {},
   "outputs": [],
   "source": [
    "cancer2015 = pd.read_sas(\"MCQ_H (1).XPT October 2015.XPT\")\n",
    "\n",
    "cancer_2015 = cancer2015[columns_to_retain]\n",
    "\n",
    "cancer_2015 = cancer_2015.fillna(cancer_2015.median()).round()"
   ]
  },
  {
   "cell_type": "code",
   "execution_count": 4,
   "id": "b07556b0",
   "metadata": {
    "scrolled": true
   },
   "outputs": [],
   "source": [
    "cancer2017 = pd.read_sas(\"MCQ_I.XPT September 2017.XPT\")\n",
    "\n",
    "cancer_2017 = cancer2017[columns_to_retain]\n",
    "\n",
    "cancer_2017 = cancer_2017.fillna(cancer_2017.median()).round()"
   ]
  },
  {
   "cell_type": "code",
   "execution_count": 5,
   "id": "1cca8443",
   "metadata": {
    "scrolled": true
   },
   "outputs": [],
   "source": [
    "cancer2020 = pd.read_sas(\"MCQ_J.XPT February 2020.XPT\")\n",
    "\n",
    "cancer_2020 = cancer2020[columns_to_retain]\n",
    "\n",
    "cancer_2020 = cancer_2020.fillna(cancer_2020.median()).round()"
   ]
  },
  {
   "cell_type": "code",
   "execution_count": 6,
   "id": "64f67d47",
   "metadata": {},
   "outputs": [],
   "source": [
    "cancer2021 = pd.read_sas(\"P_MCQ.XPT August 2021.XPT\")\n",
    "\n",
    "cancer_2021 = cancer2021[columns_to_retain]\n",
    "\n",
    "cancer_2021 = cancer_2021.fillna(cancer_2021.median()).round()"
   ]
  },
  {
   "cell_type": "markdown",
   "id": "c4013f37",
   "metadata": {},
   "source": [
    "## Since the SEQN column is the identifier among the datasets, lets check that they are continous"
   ]
  },
  {
   "cell_type": "code",
   "execution_count": 7,
   "id": "5bf808c4",
   "metadata": {},
   "outputs": [
    {
     "name": "stdout",
     "output_type": "stream",
     "text": [
      "83731.0\n",
      "83732.0\n",
      "93702.0\n",
      "93703.0\n",
      "102956.0\n",
      "109263.0\n"
     ]
    }
   ],
   "source": [
    "print(cancer_2015.SEQN.tail(1).tolist()[0])\n",
    "print(cancer_2017.SEQN.head(1).tolist()[0])\n",
    "print(cancer_2017.SEQN.tail(1).tolist()[0])\n",
    "print(cancer_2020.SEQN.head(1).tolist()[0])\n",
    "print(cancer_2020.SEQN.tail(1).tolist()[0])\n",
    "print(cancer_2021.SEQN.head(1).tolist()[0])"
   ]
  },
  {
   "cell_type": "code",
   "execution_count": 8,
   "id": "b345b5e2",
   "metadata": {},
   "outputs": [],
   "source": [
    "# Merge the datasets and clean the missing "
   ]
  },
  {
   "cell_type": "code",
   "execution_count": 9,
   "id": "faf6abed-c9ba-46a3-b194-0a3e5413d35e",
   "metadata": {
    "scrolled": true
   },
   "outputs": [
    {
     "name": "stdout",
     "output_type": "stream",
     "text": [
      "Number of rows after joining the datasets should be: 43228\n"
     ]
    }
   ],
   "source": [
    "df_cancer = pd.concat([cancer_2015, cancer_2017, cancer_2020, cancer_2021], ignore_index=True)\n",
    "\n",
    "print(\"Number of rows after joining the datasets should be:\", len(cancer_2015) + len(cancer_2017) + len(cancer_2020) + len(cancer_2021))"
   ]
  },
  {
   "cell_type": "code",
   "execution_count": 10,
   "id": "556c5c55",
   "metadata": {},
   "outputs": [
    {
     "data": {
      "text/html": [
       "<div>\n",
       "<style scoped>\n",
       "    .dataframe tbody tr th:only-of-type {\n",
       "        vertical-align: middle;\n",
       "    }\n",
       "\n",
       "    .dataframe tbody tr th {\n",
       "        vertical-align: top;\n",
       "    }\n",
       "\n",
       "    .dataframe thead th {\n",
       "        text-align: right;\n",
       "    }\n",
       "</style>\n",
       "<table border=\"1\" class=\"dataframe\">\n",
       "  <thead>\n",
       "    <tr style=\"text-align: right;\">\n",
       "      <th></th>\n",
       "      <th>SEQN</th>\n",
       "      <th>MCQ220</th>\n",
       "      <th>MCQ010</th>\n",
       "      <th>MCQ053</th>\n",
       "    </tr>\n",
       "  </thead>\n",
       "  <tbody>\n",
       "    <tr>\n",
       "      <th>0</th>\n",
       "      <td>73557.0</td>\n",
       "      <td>2.0</td>\n",
       "      <td>2.0</td>\n",
       "      <td>2.0</td>\n",
       "    </tr>\n",
       "    <tr>\n",
       "      <th>1</th>\n",
       "      <td>73558.0</td>\n",
       "      <td>2.0</td>\n",
       "      <td>1.0</td>\n",
       "      <td>2.0</td>\n",
       "    </tr>\n",
       "    <tr>\n",
       "      <th>2</th>\n",
       "      <td>73559.0</td>\n",
       "      <td>1.0</td>\n",
       "      <td>2.0</td>\n",
       "      <td>2.0</td>\n",
       "    </tr>\n",
       "    <tr>\n",
       "      <th>3</th>\n",
       "      <td>73560.0</td>\n",
       "      <td>2.0</td>\n",
       "      <td>2.0</td>\n",
       "      <td>2.0</td>\n",
       "    </tr>\n",
       "    <tr>\n",
       "      <th>4</th>\n",
       "      <td>73561.0</td>\n",
       "      <td>2.0</td>\n",
       "      <td>2.0</td>\n",
       "      <td>2.0</td>\n",
       "    </tr>\n",
       "    <tr>\n",
       "      <th>...</th>\n",
       "      <td>...</td>\n",
       "      <td>...</td>\n",
       "      <td>...</td>\n",
       "      <td>...</td>\n",
       "    </tr>\n",
       "    <tr>\n",
       "      <th>43223</th>\n",
       "      <td>124818.0</td>\n",
       "      <td>2.0</td>\n",
       "      <td>2.0</td>\n",
       "      <td>2.0</td>\n",
       "    </tr>\n",
       "    <tr>\n",
       "      <th>43224</th>\n",
       "      <td>124819.0</td>\n",
       "      <td>2.0</td>\n",
       "      <td>2.0</td>\n",
       "      <td>2.0</td>\n",
       "    </tr>\n",
       "    <tr>\n",
       "      <th>43225</th>\n",
       "      <td>124820.0</td>\n",
       "      <td>2.0</td>\n",
       "      <td>2.0</td>\n",
       "      <td>2.0</td>\n",
       "    </tr>\n",
       "    <tr>\n",
       "      <th>43226</th>\n",
       "      <td>124821.0</td>\n",
       "      <td>2.0</td>\n",
       "      <td>1.0</td>\n",
       "      <td>2.0</td>\n",
       "    </tr>\n",
       "    <tr>\n",
       "      <th>43227</th>\n",
       "      <td>124822.0</td>\n",
       "      <td>2.0</td>\n",
       "      <td>2.0</td>\n",
       "      <td>2.0</td>\n",
       "    </tr>\n",
       "  </tbody>\n",
       "</table>\n",
       "<p>43228 rows × 4 columns</p>\n",
       "</div>"
      ],
      "text/plain": [
       "           SEQN  MCQ220  MCQ010  MCQ053\n",
       "0       73557.0     2.0     2.0     2.0\n",
       "1       73558.0     2.0     1.0     2.0\n",
       "2       73559.0     1.0     2.0     2.0\n",
       "3       73560.0     2.0     2.0     2.0\n",
       "4       73561.0     2.0     2.0     2.0\n",
       "...         ...     ...     ...     ...\n",
       "43223  124818.0     2.0     2.0     2.0\n",
       "43224  124819.0     2.0     2.0     2.0\n",
       "43225  124820.0     2.0     2.0     2.0\n",
       "43226  124821.0     2.0     1.0     2.0\n",
       "43227  124822.0     2.0     2.0     2.0\n",
       "\n",
       "[43228 rows x 4 columns]"
      ]
     },
     "execution_count": 10,
     "metadata": {},
     "output_type": "execute_result"
    }
   ],
   "source": [
    "df_cancer"
   ]
  },
  {
   "cell_type": "code",
   "execution_count": 11,
   "id": "b582f548",
   "metadata": {},
   "outputs": [],
   "source": [
    "# df_cancer = df_cancer.fillna(df_cancer.mean()).round()"
   ]
  },
  {
   "cell_type": "code",
   "execution_count": 12,
   "id": "aefb12e0",
   "metadata": {},
   "outputs": [
    {
     "data": {
      "text/plain": [
       "SEQN      0\n",
       "MCQ220    0\n",
       "MCQ010    0\n",
       "MCQ053    0\n",
       "dtype: int64"
      ]
     },
     "execution_count": 12,
     "metadata": {},
     "output_type": "execute_result"
    }
   ],
   "source": [
    "df_cancer.isna().sum()"
   ]
  },
  {
   "cell_type": "code",
   "execution_count": 13,
   "id": "b3c571b1",
   "metadata": {
    "scrolled": false
   },
   "outputs": [
    {
     "data": {
      "text/html": [
       "<div>\n",
       "<style scoped>\n",
       "    .dataframe tbody tr th:only-of-type {\n",
       "        vertical-align: middle;\n",
       "    }\n",
       "\n",
       "    .dataframe tbody tr th {\n",
       "        vertical-align: top;\n",
       "    }\n",
       "\n",
       "    .dataframe thead th {\n",
       "        text-align: right;\n",
       "    }\n",
       "</style>\n",
       "<table border=\"1\" class=\"dataframe\">\n",
       "  <thead>\n",
       "    <tr style=\"text-align: right;\">\n",
       "      <th></th>\n",
       "      <th>SEQN</th>\n",
       "      <th>MCQ220</th>\n",
       "      <th>MCQ010</th>\n",
       "      <th>MCQ053</th>\n",
       "    </tr>\n",
       "  </thead>\n",
       "  <tbody>\n",
       "    <tr>\n",
       "      <th>0</th>\n",
       "      <td>73557.0</td>\n",
       "      <td>2.0</td>\n",
       "      <td>2.0</td>\n",
       "      <td>2.0</td>\n",
       "    </tr>\n",
       "    <tr>\n",
       "      <th>1</th>\n",
       "      <td>73558.0</td>\n",
       "      <td>2.0</td>\n",
       "      <td>1.0</td>\n",
       "      <td>2.0</td>\n",
       "    </tr>\n",
       "    <tr>\n",
       "      <th>2</th>\n",
       "      <td>73559.0</td>\n",
       "      <td>1.0</td>\n",
       "      <td>2.0</td>\n",
       "      <td>2.0</td>\n",
       "    </tr>\n",
       "    <tr>\n",
       "      <th>3</th>\n",
       "      <td>73560.0</td>\n",
       "      <td>2.0</td>\n",
       "      <td>2.0</td>\n",
       "      <td>2.0</td>\n",
       "    </tr>\n",
       "    <tr>\n",
       "      <th>4</th>\n",
       "      <td>73561.0</td>\n",
       "      <td>2.0</td>\n",
       "      <td>2.0</td>\n",
       "      <td>2.0</td>\n",
       "    </tr>\n",
       "    <tr>\n",
       "      <th>...</th>\n",
       "      <td>...</td>\n",
       "      <td>...</td>\n",
       "      <td>...</td>\n",
       "      <td>...</td>\n",
       "    </tr>\n",
       "    <tr>\n",
       "      <th>43223</th>\n",
       "      <td>124818.0</td>\n",
       "      <td>2.0</td>\n",
       "      <td>2.0</td>\n",
       "      <td>2.0</td>\n",
       "    </tr>\n",
       "    <tr>\n",
       "      <th>43224</th>\n",
       "      <td>124819.0</td>\n",
       "      <td>2.0</td>\n",
       "      <td>2.0</td>\n",
       "      <td>2.0</td>\n",
       "    </tr>\n",
       "    <tr>\n",
       "      <th>43225</th>\n",
       "      <td>124820.0</td>\n",
       "      <td>2.0</td>\n",
       "      <td>2.0</td>\n",
       "      <td>2.0</td>\n",
       "    </tr>\n",
       "    <tr>\n",
       "      <th>43226</th>\n",
       "      <td>124821.0</td>\n",
       "      <td>2.0</td>\n",
       "      <td>1.0</td>\n",
       "      <td>2.0</td>\n",
       "    </tr>\n",
       "    <tr>\n",
       "      <th>43227</th>\n",
       "      <td>124822.0</td>\n",
       "      <td>2.0</td>\n",
       "      <td>2.0</td>\n",
       "      <td>2.0</td>\n",
       "    </tr>\n",
       "  </tbody>\n",
       "</table>\n",
       "<p>43228 rows × 4 columns</p>\n",
       "</div>"
      ],
      "text/plain": [
       "           SEQN  MCQ220  MCQ010  MCQ053\n",
       "0       73557.0     2.0     2.0     2.0\n",
       "1       73558.0     2.0     1.0     2.0\n",
       "2       73559.0     1.0     2.0     2.0\n",
       "3       73560.0     2.0     2.0     2.0\n",
       "4       73561.0     2.0     2.0     2.0\n",
       "...         ...     ...     ...     ...\n",
       "43223  124818.0     2.0     2.0     2.0\n",
       "43224  124819.0     2.0     2.0     2.0\n",
       "43225  124820.0     2.0     2.0     2.0\n",
       "43226  124821.0     2.0     1.0     2.0\n",
       "43227  124822.0     2.0     2.0     2.0\n",
       "\n",
       "[43228 rows x 4 columns]"
      ]
     },
     "execution_count": 13,
     "metadata": {},
     "output_type": "execute_result"
    }
   ],
   "source": [
    "# df_cancer.dropna(inplace=True)\n",
    "\n",
    "df_cancer"
   ]
  },
  {
   "cell_type": "code",
   "execution_count": 14,
   "id": "fcf05975",
   "metadata": {},
   "outputs": [
    {
     "data": {
      "text/plain": [
       "SEQN      0\n",
       "MCQ220    0\n",
       "MCQ010    0\n",
       "MCQ053    0\n",
       "dtype: int64"
      ]
     },
     "execution_count": 14,
     "metadata": {},
     "output_type": "execute_result"
    }
   ],
   "source": [
    "df_cancer.isna().sum()"
   ]
  },
  {
   "cell_type": "markdown",
   "id": "02849add-6be8-402a-ae3c-cbb1099ea2f4",
   "metadata": {},
   "source": [
    "# Part 3: Save the cleaned dataset"
   ]
  },
  {
   "cell_type": "code",
   "execution_count": 15,
   "id": "543fd4fc-3c57-4701-89c4-1a8d1a0d7fec",
   "metadata": {},
   "outputs": [],
   "source": [
    "df_cancer.to_csv(\"cleaned_data/cleaned_cancer_data.csv\", index=False)"
   ]
  }
 ],
 "metadata": {
  "kernelspec": {
   "display_name": "Python 3 (ipykernel)",
   "language": "python",
   "name": "python3"
  },
  "language_info": {
   "codemirror_mode": {
    "name": "ipython",
    "version": 3
   },
   "file_extension": ".py",
   "mimetype": "text/x-python",
   "name": "python",
   "nbconvert_exporter": "python",
   "pygments_lexer": "ipython3",
   "version": "3.9.7"
  }
 },
 "nbformat": 4,
 "nbformat_minor": 5
}
